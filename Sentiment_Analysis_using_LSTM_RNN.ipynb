{
  "nbformat": 4,
  "nbformat_minor": 0,
  "metadata": {
    "colab": {
      "name": "Copy of Sentiment Analysis using LSTM RNN.ipynb",
      "provenance": [],
      "collapsed_sections": [],
      "include_colab_link": true
    },
    "kernelspec": {
      "name": "python3",
      "display_name": "Python 3"
    },
    "accelerator": "GPU"
  },
  "cells": [
    {
      "cell_type": "markdown",
      "metadata": {
        "id": "view-in-github",
        "colab_type": "text"
      },
      "source": [
        "<a href=\"https://colab.research.google.com/github/JahnaviRamagiri/END2.0/blob/main/Sentiment_Analysis_using_LSTM_RNN.ipynb\" target=\"_parent\"><img src=\"https://colab.research.google.com/assets/colab-badge.svg\" alt=\"Open In Colab\"/></a>"
      ]
    },
    {
      "cell_type": "markdown",
      "metadata": {
        "id": "GYiRsFGD6iUC"
      },
      "source": [
        "# 0 TorchText"
      ]
    },
    {
      "cell_type": "markdown",
      "metadata": {
        "id": "tp5IzBGsPGHs"
      },
      "source": [
        "## Dataset Preview\n",
        "\n",
        "Your first step to deep learning in NLP. We will be mostly using PyTorch. Just like torchvision, PyTorch provides an official library, torchtext, for handling text-processing pipelines. \n",
        "\n",
        "We will be using previous session tweet dataset. Let's just preview the dataset."
      ]
    },
    {
      "cell_type": "code",
      "metadata": {
        "id": "o1-Yz-5RRFYc",
        "colab": {
          "base_uri": "https://localhost:8080/",
          "height": 195
        },
        "outputId": "65dfb45d-f9b5-4a7d-a055-4e942c6f700c"
      },
      "source": [
        "import pandas as pd\n",
        "df = pd.read_csv('/content/datasetSentences.txt',sep = '\\t')\n",
        "labels = pd.read_csv('/content/sentiment_labels.txt',sep = '|')\n",
        "df.head()\n",
        "# label.head()"
      ],
      "execution_count": 209,
      "outputs": [
        {
          "output_type": "execute_result",
          "data": {
            "text/html": [
              "<div>\n",
              "<style scoped>\n",
              "    .dataframe tbody tr th:only-of-type {\n",
              "        vertical-align: middle;\n",
              "    }\n",
              "\n",
              "    .dataframe tbody tr th {\n",
              "        vertical-align: top;\n",
              "    }\n",
              "\n",
              "    .dataframe thead th {\n",
              "        text-align: right;\n",
              "    }\n",
              "</style>\n",
              "<table border=\"1\" class=\"dataframe\">\n",
              "  <thead>\n",
              "    <tr style=\"text-align: right;\">\n",
              "      <th></th>\n",
              "      <th>sentence_index</th>\n",
              "      <th>sentence</th>\n",
              "    </tr>\n",
              "  </thead>\n",
              "  <tbody>\n",
              "    <tr>\n",
              "      <th>0</th>\n",
              "      <td>1</td>\n",
              "      <td>The Rock is destined to be the 21st Century 's...</td>\n",
              "    </tr>\n",
              "    <tr>\n",
              "      <th>1</th>\n",
              "      <td>2</td>\n",
              "      <td>The gorgeously elaborate continuation of `` Th...</td>\n",
              "    </tr>\n",
              "    <tr>\n",
              "      <th>2</th>\n",
              "      <td>3</td>\n",
              "      <td>Effective but too-tepid biopic</td>\n",
              "    </tr>\n",
              "    <tr>\n",
              "      <th>3</th>\n",
              "      <td>4</td>\n",
              "      <td>If you sometimes like to go to the movies to h...</td>\n",
              "    </tr>\n",
              "    <tr>\n",
              "      <th>4</th>\n",
              "      <td>5</td>\n",
              "      <td>Emerges as something rare , an issue movie tha...</td>\n",
              "    </tr>\n",
              "  </tbody>\n",
              "</table>\n",
              "</div>"
            ],
            "text/plain": [
              "   sentence_index                                           sentence\n",
              "0               1  The Rock is destined to be the 21st Century 's...\n",
              "1               2  The gorgeously elaborate continuation of `` Th...\n",
              "2               3                     Effective but too-tepid biopic\n",
              "3               4  If you sometimes like to go to the movies to h...\n",
              "4               5  Emerges as something rare , an issue movie tha..."
            ]
          },
          "metadata": {
            "tags": []
          },
          "execution_count": 209
        }
      ]
    },
    {
      "cell_type": "code",
      "metadata": {
        "id": "iOlQTnjY42ep"
      },
      "source": [
        "def random_swap(sentence, n=5): \n",
        "    # sentence = sentence.split()\n",
        "    length = range(len(sentence)) \n",
        "    for _ in range(n):\n",
        "        idx1, idx2 = random.sample(length, 2)\n",
        "        # print(idx1,idx2)\n",
        "        # print(sentence[idx1],sentence[idx2])\n",
        "        sentence[idx1], sentence[idx2] = sentence[idx2], sentence[idx1] \n",
        "    return sentence\n",
        "\n",
        "# sentence = 'But he somehow pulls it off'\n",
        "# random_swap(sentence)"
      ],
      "execution_count": 210,
      "outputs": []
    },
    {
      "cell_type": "code",
      "metadata": {
        "colab": {
          "base_uri": "https://localhost:8080/",
          "height": 35
        },
        "id": "r7WsEcbj44K7",
        "outputId": "4c815c26-32c0-4d3c-c6bf-7b6a2da3cabb"
      },
      "source": [
        "df['sentence'] = df.sentence.str.split().apply(random_swap).apply(' '.join)\n",
        "# df['sentence'] = [random_swap(sen) for sen in df['sentence'] ]\n",
        "\n",
        "df['sentence'][3]"
      ],
      "execution_count": 211,
      "outputs": [
        {
          "output_type": "execute_result",
          "data": {
            "application/vnd.google.colaboratory.intrinsic+json": {
              "type": "string"
            },
            "text/plain": [
              "'If , you like to to to the movies to have fun go Wasabi is a good place sometimes start .'"
            ]
          },
          "metadata": {
            "tags": []
          },
          "execution_count": 211
        }
      ]
    },
    {
      "cell_type": "code",
      "metadata": {
        "colab": {
          "base_uri": "https://localhost:8080/",
          "height": 195
        },
        "id": "Yhsz__85EXUO",
        "outputId": "829cb0ab-da00-421b-c3ca-c040fba856df"
      },
      "source": [
        "df['sentence_index']\n",
        "labels.head()"
      ],
      "execution_count": 212,
      "outputs": [
        {
          "output_type": "execute_result",
          "data": {
            "text/html": [
              "<div>\n",
              "<style scoped>\n",
              "    .dataframe tbody tr th:only-of-type {\n",
              "        vertical-align: middle;\n",
              "    }\n",
              "\n",
              "    .dataframe tbody tr th {\n",
              "        vertical-align: top;\n",
              "    }\n",
              "\n",
              "    .dataframe thead th {\n",
              "        text-align: right;\n",
              "    }\n",
              "</style>\n",
              "<table border=\"1\" class=\"dataframe\">\n",
              "  <thead>\n",
              "    <tr style=\"text-align: right;\">\n",
              "      <th></th>\n",
              "      <th>phrase ids</th>\n",
              "      <th>sentiment values</th>\n",
              "    </tr>\n",
              "  </thead>\n",
              "  <tbody>\n",
              "    <tr>\n",
              "      <th>0</th>\n",
              "      <td>0</td>\n",
              "      <td>0.50000</td>\n",
              "    </tr>\n",
              "    <tr>\n",
              "      <th>1</th>\n",
              "      <td>1</td>\n",
              "      <td>0.50000</td>\n",
              "    </tr>\n",
              "    <tr>\n",
              "      <th>2</th>\n",
              "      <td>2</td>\n",
              "      <td>0.44444</td>\n",
              "    </tr>\n",
              "    <tr>\n",
              "      <th>3</th>\n",
              "      <td>3</td>\n",
              "      <td>0.50000</td>\n",
              "    </tr>\n",
              "    <tr>\n",
              "      <th>4</th>\n",
              "      <td>4</td>\n",
              "      <td>0.42708</td>\n",
              "    </tr>\n",
              "  </tbody>\n",
              "</table>\n",
              "</div>"
            ],
            "text/plain": [
              "   phrase ids  sentiment values\n",
              "0           0           0.50000\n",
              "1           1           0.50000\n",
              "2           2           0.44444\n",
              "3           3           0.50000\n",
              "4           4           0.42708"
            ]
          },
          "metadata": {
            "tags": []
          },
          "execution_count": 212
        }
      ]
    },
    {
      "cell_type": "code",
      "metadata": {
        "id": "n4xb-VnkvM2T"
      },
      "source": [
        "def mapping_output(x):\n",
        "  if 0<x<0.2:\n",
        "    return 0\n",
        "  elif 0.2<x<0.4:\n",
        "    return 1\n",
        "  elif 0.4<x<0.6:\n",
        "    return 2\n",
        "  elif 0.6<x<0.8:\n",
        "    return 3\n",
        "  else:\n",
        "    return 4"
      ],
      "execution_count": 213,
      "outputs": []
    },
    {
      "cell_type": "code",
      "metadata": {
        "colab": {
          "base_uri": "https://localhost:8080/",
          "height": 195
        },
        "id": "9iUtUrYwDkjx",
        "outputId": "67d490db-25bd-4a05-d1c6-96d31a9048c7"
      },
      "source": [
        "import math\n",
        "\n",
        "\n",
        "df['labels'] = labels['sentiment values'].apply(mapping_output)\n",
        "# df.drop(['sentence_index'],inplace = True)\n",
        "df.head()\n"
      ],
      "execution_count": 214,
      "outputs": [
        {
          "output_type": "execute_result",
          "data": {
            "text/html": [
              "<div>\n",
              "<style scoped>\n",
              "    .dataframe tbody tr th:only-of-type {\n",
              "        vertical-align: middle;\n",
              "    }\n",
              "\n",
              "    .dataframe tbody tr th {\n",
              "        vertical-align: top;\n",
              "    }\n",
              "\n",
              "    .dataframe thead th {\n",
              "        text-align: right;\n",
              "    }\n",
              "</style>\n",
              "<table border=\"1\" class=\"dataframe\">\n",
              "  <thead>\n",
              "    <tr style=\"text-align: right;\">\n",
              "      <th></th>\n",
              "      <th>sentence_index</th>\n",
              "      <th>sentence</th>\n",
              "      <th>labels</th>\n",
              "    </tr>\n",
              "  </thead>\n",
              "  <tbody>\n",
              "    <tr>\n",
              "      <th>0</th>\n",
              "      <td>1</td>\n",
              "      <td>The or going destined to be even 21st Century ...</td>\n",
              "      <td>2</td>\n",
              "    </tr>\n",
              "    <tr>\n",
              "      <th>1</th>\n",
              "      <td>2</td>\n",
              "      <td>The gorgeously elaborate '' of `` Lord The of ...</td>\n",
              "      <td>2</td>\n",
              "    </tr>\n",
              "    <tr>\n",
              "      <th>2</th>\n",
              "      <td>3</td>\n",
              "      <td>biopic but too-tepid Effective</td>\n",
              "      <td>2</td>\n",
              "    </tr>\n",
              "    <tr>\n",
              "      <th>3</th>\n",
              "      <td>4</td>\n",
              "      <td>If , you like to to to the movies to have fun ...</td>\n",
              "      <td>2</td>\n",
              "    </tr>\n",
              "    <tr>\n",
              "      <th>4</th>\n",
              "      <td>5</td>\n",
              "      <td>Emerges n't that as , an issue movie something...</td>\n",
              "      <td>2</td>\n",
              "    </tr>\n",
              "  </tbody>\n",
              "</table>\n",
              "</div>"
            ],
            "text/plain": [
              "   sentence_index                                           sentence  labels\n",
              "0               1  The or going destined to be even 21st Century ...       2\n",
              "1               2  The gorgeously elaborate '' of `` Lord The of ...       2\n",
              "2               3                     biopic but too-tepid Effective       2\n",
              "3               4  If , you like to to to the movies to have fun ...       2\n",
              "4               5  Emerges n't that as , an issue movie something...       2"
            ]
          },
          "metadata": {
            "tags": []
          },
          "execution_count": 214
        }
      ]
    },
    {
      "cell_type": "code",
      "metadata": {
        "id": "R7JdpCW-YbAG",
        "colab": {
          "base_uri": "https://localhost:8080/"
        },
        "outputId": "0de21d5c-f4ee-4347-9176-f30a1f2e4ae9"
      },
      "source": [
        "df.shape"
      ],
      "execution_count": 215,
      "outputs": [
        {
          "output_type": "execute_result",
          "data": {
            "text/plain": [
              "(11855, 3)"
            ]
          },
          "metadata": {
            "tags": []
          },
          "execution_count": 215
        }
      ]
    },
    {
      "cell_type": "code",
      "metadata": {
        "id": "zqRsoF6xYdgl",
        "colab": {
          "base_uri": "https://localhost:8080/"
        },
        "outputId": "56402086-69a4-463f-eebd-0e7fac7d633d"
      },
      "source": [
        "df.labels.value_counts()"
      ],
      "execution_count": 216,
      "outputs": [
        {
          "output_type": "execute_result",
          "data": {
            "text/plain": [
              "2    6240\n",
              "1    2175\n",
              "3    2139\n",
              "4     668\n",
              "0     633\n",
              "Name: labels, dtype: int64"
            ]
          },
          "metadata": {
            "tags": []
          },
          "execution_count": 216
        }
      ]
    },
    {
      "cell_type": "code",
      "metadata": {
        "id": "2jcROCpRBBf4"
      },
      "source": [
        "# a = [df['labels'][ind] for ind in len(range(df['labels'])) if df['labels'][ind] == 4 ]"
      ],
      "execution_count": 217,
      "outputs": []
    },
    {
      "cell_type": "markdown",
      "metadata": {
        "id": "XJ6o_79ISSVb"
      },
      "source": [
        "## Defining Fields"
      ]
    },
    {
      "cell_type": "markdown",
      "metadata": {
        "id": "e63g08ijOrf7"
      },
      "source": [
        "Now we shall be defining LABEL as a LabelField, which is a subclass of Field that sets sequen tial to False (as it’s our numerical category class). TWEET is a standard Field object, where we have decided to use the spaCy tokenizer and convert all the text to lower‐ case."
      ]
    },
    {
      "cell_type": "code",
      "metadata": {
        "id": "qk8IP4SK1Lrp",
        "colab": {
          "base_uri": "https://localhost:8080/"
        },
        "outputId": "85adc711-61f4-46ac-fbe4-c6e3b29b2c38"
      },
      "source": [
        "# Import Library\n",
        "import random\n",
        "import torch, torchtext\n",
        "from torchtext import data \n",
        "\n",
        "# Manual Seed\n",
        "SEED = 43\n",
        "torch.manual_seed(SEED)"
      ],
      "execution_count": 218,
      "outputs": [
        {
          "output_type": "execute_result",
          "data": {
            "text/plain": [
              "<torch._C.Generator at 0x7f2f78799c50>"
            ]
          },
          "metadata": {
            "tags": []
          },
          "execution_count": 218
        }
      ]
    },
    {
      "cell_type": "code",
      "metadata": {
        "id": "u6bKQax2Mf_U"
      },
      "source": [
        "sentence = torchtext.legacy.data.Field(sequential = True, tokenize = 'spacy', batch_first =True, include_lengths=True)\n",
        "Label = torchtext.legacy.data.LabelField(tokenize ='spacy', is_target=True, batch_first =True, sequential =False)"
      ],
      "execution_count": 219,
      "outputs": []
    },
    {
      "cell_type": "markdown",
      "metadata": {
        "id": "_2nfZ3bG7IAQ"
      },
      "source": [
        ""
      ]
    },
    {
      "cell_type": "markdown",
      "metadata": {
        "id": "mX-lYIe_O7Vy"
      },
      "source": [
        "Having defined those fields, we now need to produce a list that maps them onto the list of rows that are in the CSV:"
      ]
    },
    {
      "cell_type": "code",
      "metadata": {
        "id": "VawdWq36O6td"
      },
      "source": [
        "fields = [('sentence', sentence),('labels',Label)]"
      ],
      "execution_count": 220,
      "outputs": []
    },
    {
      "cell_type": "markdown",
      "metadata": {
        "id": "ZbtZ-Ph2P1xL"
      },
      "source": [
        "Armed with our declared fields, lets convert from pandas to list to torchtext. We could also use TabularDataset to apply that definition to the CSV directly but showing an alternative approach too."
      ]
    },
    {
      "cell_type": "code",
      "metadata": {
        "id": "L3OLcJ5B7rHz"
      },
      "source": [
        "example = [torchtext.legacy.data.Example.fromlist([df.sentence[i],df.labels[i]], fields) for i in range(df.shape[0])] "
      ],
      "execution_count": 221,
      "outputs": []
    },
    {
      "cell_type": "code",
      "metadata": {
        "colab": {
          "base_uri": "https://localhost:8080/"
        },
        "id": "g6BDRLMcAY6Q",
        "outputId": "210fe642-5a67-4291-b1cb-0f53bd21ad8b"
      },
      "source": [
        "example"
      ],
      "execution_count": 222,
      "outputs": [
        {
          "output_type": "execute_result",
          "data": {
            "text/plain": [
              "[<torchtext.legacy.data.example.Example at 0x7f2ec87ba750>,\n",
              " <torchtext.legacy.data.example.Example at 0x7f2ec87bae90>,\n",
              " <torchtext.legacy.data.example.Example at 0x7f2ec87ba410>,\n",
              " <torchtext.legacy.data.example.Example at 0x7f2ec87ba110>,\n",
              " <torchtext.legacy.data.example.Example at 0x7f2eca006650>,\n",
              " <torchtext.legacy.data.example.Example at 0x7f2ec26a2890>,\n",
              " <torchtext.legacy.data.example.Example at 0x7f2ec26a2dd0>,\n",
              " <torchtext.legacy.data.example.Example at 0x7f2ec26374d0>,\n",
              " <torchtext.legacy.data.example.Example at 0x7f2ec2637510>,\n",
              " <torchtext.legacy.data.example.Example at 0x7f2ec26a27d0>,\n",
              " <torchtext.legacy.data.example.Example at 0x7f2ec2637b90>,\n",
              " <torchtext.legacy.data.example.Example at 0x7f2ec2637c10>,\n",
              " <torchtext.legacy.data.example.Example at 0x7f2ec263a2d0>,\n",
              " <torchtext.legacy.data.example.Example at 0x7f2ec263a990>,\n",
              " <torchtext.legacy.data.example.Example at 0x7f2ec263acd0>,\n",
              " <torchtext.legacy.data.example.Example at 0x7f2ec263e050>,\n",
              " <torchtext.legacy.data.example.Example at 0x7f2ec5ef89d0>,\n",
              " <torchtext.legacy.data.example.Example at 0x7f2ec5ef8710>,\n",
              " <torchtext.legacy.data.example.Example at 0x7f2ec5ef8d10>,\n",
              " <torchtext.legacy.data.example.Example at 0x7f2ec5ef84d0>,\n",
              " <torchtext.legacy.data.example.Example at 0x7f2ec263ed90>,\n",
              " <torchtext.legacy.data.example.Example at 0x7f2ec263ee90>,\n",
              " <torchtext.legacy.data.example.Example at 0x7f2ec97ec7d0>,\n",
              " <torchtext.legacy.data.example.Example at 0x7f2ec2647150>,\n",
              " <torchtext.legacy.data.example.Example at 0x7f2ec26473d0>,\n",
              " <torchtext.legacy.data.example.Example at 0x7f2ec2647450>,\n",
              " <torchtext.legacy.data.example.Example at 0x7f2ec2647d90>,\n",
              " <torchtext.legacy.data.example.Example at 0x7f2ec264a190>,\n",
              " <torchtext.legacy.data.example.Example at 0x7f2ec264a690>,\n",
              " <torchtext.legacy.data.example.Example at 0x7f2ec264aa50>,\n",
              " <torchtext.legacy.data.example.Example at 0x7f2ec264ab10>,\n",
              " <torchtext.legacy.data.example.Example at 0x7f2ec264f050>,\n",
              " <torchtext.legacy.data.example.Example at 0x7f2ec264f490>,\n",
              " <torchtext.legacy.data.example.Example at 0x7f2ec264fa10>,\n",
              " <torchtext.legacy.data.example.Example at 0x7f2ec264ff90>,\n",
              " <torchtext.legacy.data.example.Example at 0x7f2ec2653290>,\n",
              " <torchtext.legacy.data.example.Example at 0x7f2ec2653690>,\n",
              " <torchtext.legacy.data.example.Example at 0x7f2ec2653750>,\n",
              " <torchtext.legacy.data.example.Example at 0x7f2ec2653d50>,\n",
              " <torchtext.legacy.data.example.Example at 0x7f2ec26455d0>,\n",
              " <torchtext.legacy.data.example.Example at 0x7f2ec2645c90>,\n",
              " <torchtext.legacy.data.example.Example at 0x7f2ec2645fd0>,\n",
              " <torchtext.legacy.data.example.Example at 0x7f2ec26421d0>,\n",
              " <torchtext.legacy.data.example.Example at 0x7f2ec2642bd0>,\n",
              " <torchtext.legacy.data.example.Example at 0x7f2ec265d150>,\n",
              " <torchtext.legacy.data.example.Example at 0x7f2ec265d490>,\n",
              " <torchtext.legacy.data.example.Example at 0x7f2ec265d910>,\n",
              " <torchtext.legacy.data.example.Example at 0x7f2ec265de90>,\n",
              " <torchtext.legacy.data.example.Example at 0x7f2ec265f190>,\n",
              " <torchtext.legacy.data.example.Example at 0x7f2ec265f590>,\n",
              " <torchtext.legacy.data.example.Example at 0x7f2ec265f990>,\n",
              " <torchtext.legacy.data.example.Example at 0x7f2ec2663050>,\n",
              " <torchtext.legacy.data.example.Example at 0x7f2ec2663390>,\n",
              " <torchtext.legacy.data.example.Example at 0x7f2ec2663890>,\n",
              " <torchtext.legacy.data.example.Example at 0x7f2ec2663a90>,\n",
              " <torchtext.legacy.data.example.Example at 0x7f2ec26673d0>,\n",
              " <torchtext.legacy.data.example.Example at 0x7f2ec2667490>,\n",
              " <torchtext.legacy.data.example.Example at 0x7f2ec26678d0>,\n",
              " <torchtext.legacy.data.example.Example at 0x7f2ec2667dd0>,\n",
              " <torchtext.legacy.data.example.Example at 0x7f2ec26680d0>,\n",
              " <torchtext.legacy.data.example.Example at 0x7f2ec2668610>,\n",
              " <torchtext.legacy.data.example.Example at 0x7f2ec2668bd0>,\n",
              " <torchtext.legacy.data.example.Example at 0x7f2ec266d0d0>,\n",
              " <torchtext.legacy.data.example.Example at 0x7f2ec266d450>,\n",
              " <torchtext.legacy.data.example.Example at 0x7f2ec266dc50>,\n",
              " <torchtext.legacy.data.example.Example at 0x7f2ec2670150>,\n",
              " <torchtext.legacy.data.example.Example at 0x7f2ec2670390>,\n",
              " <torchtext.legacy.data.example.Example at 0x7f2ec2670c90>,\n",
              " <torchtext.legacy.data.example.Example at 0x7f2ec2670f10>,\n",
              " <torchtext.legacy.data.example.Example at 0x7f2ec2672110>,\n",
              " <torchtext.legacy.data.example.Example at 0x7f2ec26726d0>,\n",
              " <torchtext.legacy.data.example.Example at 0x7f2ec2672c50>,\n",
              " <torchtext.legacy.data.example.Example at 0x7f2ec25f60d0>,\n",
              " <torchtext.legacy.data.example.Example at 0x7f2ec25f6410>,\n",
              " <torchtext.legacy.data.example.Example at 0x7f2ec25f6990>,\n",
              " <torchtext.legacy.data.example.Example at 0x7f2ec25f6e10>,\n",
              " <torchtext.legacy.data.example.Example at 0x7f2ec25fa3d0>,\n",
              " <torchtext.legacy.data.example.Example at 0x7f2ec25fa9d0>,\n",
              " <torchtext.legacy.data.example.Example at 0x7f2ec25faa90>,\n",
              " <torchtext.legacy.data.example.Example at 0x7f2ec25fc0d0>,\n",
              " <torchtext.legacy.data.example.Example at 0x7f2ec25fc4d0>,\n",
              " <torchtext.legacy.data.example.Example at 0x7f2ec25fc990>,\n",
              " <torchtext.legacy.data.example.Example at 0x7f2ec25fcf50>,\n",
              " <torchtext.legacy.data.example.Example at 0x7f2ec25ff050>,\n",
              " <torchtext.legacy.data.example.Example at 0x7f2ec25ff550>,\n",
              " <torchtext.legacy.data.example.Example at 0x7f2ec25ff590>,\n",
              " <torchtext.legacy.data.example.Example at 0x7f2ec25ffa10>,\n",
              " <torchtext.legacy.data.example.Example at 0x7f2ec25ffcd0>,\n",
              " <torchtext.legacy.data.example.Example at 0x7f2ec2607110>,\n",
              " <torchtext.legacy.data.example.Example at 0x7f2ec26076d0>,\n",
              " <torchtext.legacy.data.example.Example at 0x7f2ec2607d10>,\n",
              " <torchtext.legacy.data.example.Example at 0x7f2ec26092d0>,\n",
              " <torchtext.legacy.data.example.Example at 0x7f2ec2609590>,\n",
              " <torchtext.legacy.data.example.Example at 0x7f2ec2609a90>,\n",
              " <torchtext.legacy.data.example.Example at 0x7f2ec2609d50>,\n",
              " <torchtext.legacy.data.example.Example at 0x7f2ec260d1d0>,\n",
              " <torchtext.legacy.data.example.Example at 0x7f2ec260d890>,\n",
              " <torchtext.legacy.data.example.Example at 0x7f2ec260ddd0>,\n",
              " <torchtext.legacy.data.example.Example at 0x7f2ec2610290>,\n",
              " <torchtext.legacy.data.example.Example at 0x7f2ec2610b50>,\n",
              " <torchtext.legacy.data.example.Example at 0x7f2ec2610c10>,\n",
              " <torchtext.legacy.data.example.Example at 0x7f2ec2613710>,\n",
              " <torchtext.legacy.data.example.Example at 0x7f2ec2613b90>,\n",
              " <torchtext.legacy.data.example.Example at 0x7f2ec2617490>,\n",
              " <torchtext.legacy.data.example.Example at 0x7f2ec2617810>,\n",
              " <torchtext.legacy.data.example.Example at 0x7f2ec2617d90>,\n",
              " <torchtext.legacy.data.example.Example at 0x7f2ec261d110>,\n",
              " <torchtext.legacy.data.example.Example at 0x7f2ec261d690>,\n",
              " <torchtext.legacy.data.example.Example at 0x7f2ec261d6d0>,\n",
              " <torchtext.legacy.data.example.Example at 0x7f2ec261dd50>,\n",
              " <torchtext.legacy.data.example.Example at 0x7f2ec261a050>,\n",
              " <torchtext.legacy.data.example.Example at 0x7f2ec261a390>,\n",
              " <torchtext.legacy.data.example.Example at 0x7f2ec261a9d0>,\n",
              " <torchtext.legacy.data.example.Example at 0x7f2ec2621290>,\n",
              " <torchtext.legacy.data.example.Example at 0x7f2ec26218d0>,\n",
              " <torchtext.legacy.data.example.Example at 0x7f2ec2621c50>,\n",
              " <torchtext.legacy.data.example.Example at 0x7f2ec2622090>,\n",
              " <torchtext.legacy.data.example.Example at 0x7f2ec2622610>,\n",
              " <torchtext.legacy.data.example.Example at 0x7f2ec2622b90>,\n",
              " <torchtext.legacy.data.example.Example at 0x7f2ec2627310>,\n",
              " <torchtext.legacy.data.example.Example at 0x7f2ec26275d0>,\n",
              " <torchtext.legacy.data.example.Example at 0x7f2ec2627dd0>,\n",
              " <torchtext.legacy.data.example.Example at 0x7f2ec2627e10>,\n",
              " <torchtext.legacy.data.example.Example at 0x7f2ec2628890>,\n",
              " <torchtext.legacy.data.example.Example at 0x7f2ec2628bd0>,\n",
              " <torchtext.legacy.data.example.Example at 0x7f2ec2628410>,\n",
              " <torchtext.legacy.data.example.Example at 0x7f2ec262e750>,\n",
              " <torchtext.legacy.data.example.Example at 0x7f2ec262e910>,\n",
              " <torchtext.legacy.data.example.Example at 0x7f2ec262ef10>,\n",
              " <torchtext.legacy.data.example.Example at 0x7f2ec26310d0>,\n",
              " <torchtext.legacy.data.example.Example at 0x7f2ec2631750>,\n",
              " <torchtext.legacy.data.example.Example at 0x7f2ec2631b50>,\n",
              " <torchtext.legacy.data.example.Example at 0x7f2ec25b41d0>,\n",
              " <torchtext.legacy.data.example.Example at 0x7f2ec25b4a90>,\n",
              " <torchtext.legacy.data.example.Example at 0x7f2ec25b4bd0>,\n",
              " <torchtext.legacy.data.example.Example at 0x7f2ec25b4f90>,\n",
              " <torchtext.legacy.data.example.Example at 0x7f2ec25b7590>,\n",
              " <torchtext.legacy.data.example.Example at 0x7f2ec25b7790>,\n",
              " <torchtext.legacy.data.example.Example at 0x7f2ec25b7d90>,\n",
              " <torchtext.legacy.data.example.Example at 0x7f2ec25ba110>,\n",
              " <torchtext.legacy.data.example.Example at 0x7f2ec25ba690>,\n",
              " <torchtext.legacy.data.example.Example at 0x7f2ec25bab50>,\n",
              " <torchtext.legacy.data.example.Example at 0x7f2ec262b090>,\n",
              " <torchtext.legacy.data.example.Example at 0x7f2ec262b190>,\n",
              " <torchtext.legacy.data.example.Example at 0x7f2ec262b790>,\n",
              " <torchtext.legacy.data.example.Example at 0x7f2ec262bc10>,\n",
              " <torchtext.legacy.data.example.Example at 0x7f2ec25c1390>,\n",
              " <torchtext.legacy.data.example.Example at 0x7f2ec25c1650>,\n",
              " <torchtext.legacy.data.example.Example at 0x7f2ec25c1ad0>,\n",
              " <torchtext.legacy.data.example.Example at 0x7f2ec25c1d90>,\n",
              " <torchtext.legacy.data.example.Example at 0x7f2ec25c1f90>,\n",
              " <torchtext.legacy.data.example.Example at 0x7f2ec25c5090>,\n",
              " <torchtext.legacy.data.example.Example at 0x7f2ec25c5310>,\n",
              " <torchtext.legacy.data.example.Example at 0x7f2ec25c5850>,\n",
              " <torchtext.legacy.data.example.Example at 0x7f2ec25c5950>,\n",
              " <torchtext.legacy.data.example.Example at 0x7f2ec25c5f90>,\n",
              " <torchtext.legacy.data.example.Example at 0x7f2ec25c65d0>,\n",
              " <torchtext.legacy.data.example.Example at 0x7f2ec25c6b10>,\n",
              " <torchtext.legacy.data.example.Example at 0x7f2ec25c6fd0>,\n",
              " <torchtext.legacy.data.example.Example at 0x7f2ec25c9790>,\n",
              " <torchtext.legacy.data.example.Example at 0x7f2ec25c9a10>,\n",
              " <torchtext.legacy.data.example.Example at 0x7f2ec25bc110>,\n",
              " <torchtext.legacy.data.example.Example at 0x7f2ec25bc850>,\n",
              " <torchtext.legacy.data.example.Example at 0x7f2ec25bcc90>,\n",
              " <torchtext.legacy.data.example.Example at 0x7f2ec25bcfd0>,\n",
              " <torchtext.legacy.data.example.Example at 0x7f2ec25d0490>,\n",
              " <torchtext.legacy.data.example.Example at 0x7f2ec25d0c90>,\n",
              " <torchtext.legacy.data.example.Example at 0x7f2ec25d2150>,\n",
              " <torchtext.legacy.data.example.Example at 0x7f2ec25d2550>,\n",
              " <torchtext.legacy.data.example.Example at 0x7f2ec25d2910>,\n",
              " <torchtext.legacy.data.example.Example at 0x7f2ec25d2dd0>,\n",
              " <torchtext.legacy.data.example.Example at 0x7f2ec25d4090>,\n",
              " <torchtext.legacy.data.example.Example at 0x7f2ec25d4710>,\n",
              " <torchtext.legacy.data.example.Example at 0x7f2ec25d4ed0>,\n",
              " <torchtext.legacy.data.example.Example at 0x7f2ec25d7350>,\n",
              " <torchtext.legacy.data.example.Example at 0x7f2ec25d77d0>,\n",
              " <torchtext.legacy.data.example.Example at 0x7f2ec25d7b90>,\n",
              " <torchtext.legacy.data.example.Example at 0x7f2ec25da090>,\n",
              " <torchtext.legacy.data.example.Example at 0x7f2ec25dadd0>,\n",
              " <torchtext.legacy.data.example.Example at 0x7f2ec25dc310>,\n",
              " <torchtext.legacy.data.example.Example at 0x7f2ec25dc510>,\n",
              " <torchtext.legacy.data.example.Example at 0x7f2ec25dc790>,\n",
              " <torchtext.legacy.data.example.Example at 0x7f2ec25e27d0>,\n",
              " <torchtext.legacy.data.example.Example at 0x7f2ec25e2b10>,\n",
              " <torchtext.legacy.data.example.Example at 0x7f2ec25e2f90>,\n",
              " <torchtext.legacy.data.example.Example at 0x7f2ec25e35d0>,\n",
              " <torchtext.legacy.data.example.Example at 0x7f2ec25e3b50>,\n",
              " <torchtext.legacy.data.example.Example at 0x7f2ec25e3f10>,\n",
              " <torchtext.legacy.data.example.Example at 0x7f2ec25e5310>,\n",
              " <torchtext.legacy.data.example.Example at 0x7f2ec25e56d0>,\n",
              " <torchtext.legacy.data.example.Example at 0x7f2ec25e5c50>,\n",
              " <torchtext.legacy.data.example.Example at 0x7f2ec25e80d0>,\n",
              " <torchtext.legacy.data.example.Example at 0x7f2ec25e82d0>,\n",
              " <torchtext.legacy.data.example.Example at 0x7f2ec25e85d0>,\n",
              " <torchtext.legacy.data.example.Example at 0x7f2ec25e8910>,\n",
              " <torchtext.legacy.data.example.Example at 0x7f2ec25e8f50>,\n",
              " <torchtext.legacy.data.example.Example at 0x7f2ec25ec7d0>,\n",
              " <torchtext.legacy.data.example.Example at 0x7f2ec25ecad0>,\n",
              " <torchtext.legacy.data.example.Example at 0x7f2ec25ece50>,\n",
              " <torchtext.legacy.data.example.Example at 0x7f2ec25ecf10>,\n",
              " <torchtext.legacy.data.example.Example at 0x7f2ec25dd250>,\n",
              " <torchtext.legacy.data.example.Example at 0x7f2ec25dd550>,\n",
              " <torchtext.legacy.data.example.Example at 0x7f2ec25dd650>,\n",
              " <torchtext.legacy.data.example.Example at 0x7f2ec25dde10>,\n",
              " <torchtext.legacy.data.example.Example at 0x7f2ec25f02d0>,\n",
              " <torchtext.legacy.data.example.Example at 0x7f2ec25f06d0>,\n",
              " <torchtext.legacy.data.example.Example at 0x7f2ec25f0e90>,\n",
              " <torchtext.legacy.data.example.Example at 0x7f2ec25f3550>,\n",
              " <torchtext.legacy.data.example.Example at 0x7f2ec25f3610>,\n",
              " <torchtext.legacy.data.example.Example at 0x7f2ec25f39d0>,\n",
              " <torchtext.legacy.data.example.Example at 0x7f2ec2575190>,\n",
              " <torchtext.legacy.data.example.Example at 0x7f2ec2575250>,\n",
              " <torchtext.legacy.data.example.Example at 0x7f2ec2575810>,\n",
              " <torchtext.legacy.data.example.Example at 0x7f2ec2575c10>,\n",
              " <torchtext.legacy.data.example.Example at 0x7f2ec2577150>,\n",
              " <torchtext.legacy.data.example.Example at 0x7f2ec2577350>,\n",
              " <torchtext.legacy.data.example.Example at 0x7f2ec2577390>,\n",
              " <torchtext.legacy.data.example.Example at 0x7f2ec2577bd0>,\n",
              " <torchtext.legacy.data.example.Example at 0x7f2ec2577fd0>,\n",
              " <torchtext.legacy.data.example.Example at 0x7f2ec257c390>,\n",
              " <torchtext.legacy.data.example.Example at 0x7f2ec257c8d0>,\n",
              " <torchtext.legacy.data.example.Example at 0x7f2ec257cd10>,\n",
              " <torchtext.legacy.data.example.Example at 0x7f2ec257e410>,\n",
              " <torchtext.legacy.data.example.Example at 0x7f2ec257e9d0>,\n",
              " <torchtext.legacy.data.example.Example at 0x7f2ec257ef50>,\n",
              " <torchtext.legacy.data.example.Example at 0x7f2ec2581410>,\n",
              " <torchtext.legacy.data.example.Example at 0x7f2ec2581a50>,\n",
              " <torchtext.legacy.data.example.Example at 0x7f2ec2581ed0>,\n",
              " <torchtext.legacy.data.example.Example at 0x7f2ec25832d0>,\n",
              " <torchtext.legacy.data.example.Example at 0x7f2ec2583390>,\n",
              " <torchtext.legacy.data.example.Example at 0x7f2ec25837d0>,\n",
              " <torchtext.legacy.data.example.Example at 0x7f2ec2583d90>,\n",
              " <torchtext.legacy.data.example.Example at 0x7f2ec2586190>,\n",
              " <torchtext.legacy.data.example.Example at 0x7f2ec2586a50>,\n",
              " <torchtext.legacy.data.example.Example at 0x7f2ec2589090>,\n",
              " <torchtext.legacy.data.example.Example at 0x7f2ec25896d0>,\n",
              " <torchtext.legacy.data.example.Example at 0x7f2ec2589b90>,\n",
              " <torchtext.legacy.data.example.Example at 0x7f2ec2589cd0>,\n",
              " <torchtext.legacy.data.example.Example at 0x7f2ec25ce090>,\n",
              " <torchtext.legacy.data.example.Example at 0x7f2ec25ce890>,\n",
              " <torchtext.legacy.data.example.Example at 0x7f2ec25cebd0>,\n",
              " <torchtext.legacy.data.example.Example at 0x7f2ec2579290>,\n",
              " <torchtext.legacy.data.example.Example at 0x7f2ec2579350>,\n",
              " <torchtext.legacy.data.example.Example at 0x7f2ec2579850>,\n",
              " <torchtext.legacy.data.example.Example at 0x7f2ec2579f10>,\n",
              " <torchtext.legacy.data.example.Example at 0x7f2ec258e050>,\n",
              " <torchtext.legacy.data.example.Example at 0x7f2ec258e7d0>,\n",
              " <torchtext.legacy.data.example.Example at 0x7f2ec258ec50>,\n",
              " <torchtext.legacy.data.example.Example at 0x7f2ec258ec90>,\n",
              " <torchtext.legacy.data.example.Example at 0x7f2ec25904d0>,\n",
              " <torchtext.legacy.data.example.Example at 0x7f2ec25909d0>,\n",
              " <torchtext.legacy.data.example.Example at 0x7f2ec2590bd0>,\n",
              " <torchtext.legacy.data.example.Example at 0x7f2ec2593350>,\n",
              " <torchtext.legacy.data.example.Example at 0x7f2ec2593590>,\n",
              " <torchtext.legacy.data.example.Example at 0x7f2ec2593f50>,\n",
              " <torchtext.legacy.data.example.Example at 0x7f2ec2598050>,\n",
              " <torchtext.legacy.data.example.Example at 0x7f2ec25983d0>,\n",
              " <torchtext.legacy.data.example.Example at 0x7f2ec2598750>,\n",
              " <torchtext.legacy.data.example.Example at 0x7f2ec2598a10>,\n",
              " <torchtext.legacy.data.example.Example at 0x7f2ec259b0d0>,\n",
              " <torchtext.legacy.data.example.Example at 0x7f2ec259b210>,\n",
              " <torchtext.legacy.data.example.Example at 0x7f2ec259b610>,\n",
              " <torchtext.legacy.data.example.Example at 0x7f2ec259bb90>,\n",
              " <torchtext.legacy.data.example.Example at 0x7f2ec259c290>,\n",
              " <torchtext.legacy.data.example.Example at 0x7f2ec259c850>,\n",
              " <torchtext.legacy.data.example.Example at 0x7f2ec259cb10>,\n",
              " <torchtext.legacy.data.example.Example at 0x7f2ec259f550>,\n",
              " <torchtext.legacy.data.example.Example at 0x7f2ec259f750>,\n",
              " <torchtext.legacy.data.example.Example at 0x7f2ec259f950>,\n",
              " <torchtext.legacy.data.example.Example at 0x7f2ec259fcd0>,\n",
              " <torchtext.legacy.data.example.Example at 0x7f2ec25a24d0>,\n",
              " <torchtext.legacy.data.example.Example at 0x7f2ec25a2910>,\n",
              " <torchtext.legacy.data.example.Example at 0x7f2ec25a2b10>,\n",
              " <torchtext.legacy.data.example.Example at 0x7f2ec25a2e10>,\n",
              " <torchtext.legacy.data.example.Example at 0x7f2ec25a9150>,\n",
              " <torchtext.legacy.data.example.Example at 0x7f2ec25a9910>,\n",
              " <torchtext.legacy.data.example.Example at 0x7f2ec25a9dd0>,\n",
              " <torchtext.legacy.data.example.Example at 0x7f2ec25ab590>,\n",
              " <torchtext.legacy.data.example.Example at 0x7f2ec25abb10>,\n",
              " <torchtext.legacy.data.example.Example at 0x7f2ec25ad090>,\n",
              " <torchtext.legacy.data.example.Example at 0x7f2ec25ad2d0>,\n",
              " <torchtext.legacy.data.example.Example at 0x7f2ec25ad5d0>,\n",
              " <torchtext.legacy.data.example.Example at 0x7f2ec25add10>,\n",
              " <torchtext.legacy.data.example.Example at 0x7f2ec25af110>,\n",
              " <torchtext.legacy.data.example.Example at 0x7f2ec25af450>,\n",
              " <torchtext.legacy.data.example.Example at 0x7f2ec25afb10>,\n",
              " <torchtext.legacy.data.example.Example at 0x7f2ec25afe90>,\n",
              " <torchtext.legacy.data.example.Example at 0x7f2ec25aff10>,\n",
              " <torchtext.legacy.data.example.Example at 0x7f2ec25b2950>,\n",
              " <torchtext.legacy.data.example.Example at 0x7f2ec25b2dd0>,\n",
              " <torchtext.legacy.data.example.Example at 0x7f2ec2534410>,\n",
              " <torchtext.legacy.data.example.Example at 0x7f2ec2534a90>,\n",
              " <torchtext.legacy.data.example.Example at 0x7f2ec2534f50>,\n",
              " <torchtext.legacy.data.example.Example at 0x7f2ec2536390>,\n",
              " <torchtext.legacy.data.example.Example at 0x7f2ec2536910>,\n",
              " <torchtext.legacy.data.example.Example at 0x7f2ec25a80d0>,\n",
              " <torchtext.legacy.data.example.Example at 0x7f2ec25a8390>,\n",
              " <torchtext.legacy.data.example.Example at 0x7f2ec25a8a90>,\n",
              " <torchtext.legacy.data.example.Example at 0x7f2ec25a8f50>,\n",
              " <torchtext.legacy.data.example.Example at 0x7f2ec253a7d0>,\n",
              " <torchtext.legacy.data.example.Example at 0x7f2ec253ad90>,\n",
              " <torchtext.legacy.data.example.Example at 0x7f2ec253b510>,\n",
              " <torchtext.legacy.data.example.Example at 0x7f2ec253b590>,\n",
              " <torchtext.legacy.data.example.Example at 0x7f2ec253bc10>,\n",
              " <torchtext.legacy.data.example.Example at 0x7f2ec253bed0>,\n",
              " <torchtext.legacy.data.example.Example at 0x7f2ec253d390>,\n",
              " <torchtext.legacy.data.example.Example at 0x7f2ec253dc10>,\n",
              " <torchtext.legacy.data.example.Example at 0x7f2ec253e250>,\n",
              " <torchtext.legacy.data.example.Example at 0x7f2ec253e8d0>,\n",
              " <torchtext.legacy.data.example.Example at 0x7f2ec253ea10>,\n",
              " <torchtext.legacy.data.example.Example at 0x7f2ec253ee90>,\n",
              " <torchtext.legacy.data.example.Example at 0x7f2ec25468d0>,\n",
              " <torchtext.legacy.data.example.Example at 0x7f2ec2546e90>,\n",
              " <torchtext.legacy.data.example.Example at 0x7f2ec2547450>,\n",
              " <torchtext.legacy.data.example.Example at 0x7f2ec25476d0>,\n",
              " <torchtext.legacy.data.example.Example at 0x7f2ec2547a90>,\n",
              " <torchtext.legacy.data.example.Example at 0x7f2ec254a110>,\n",
              " <torchtext.legacy.data.example.Example at 0x7f2ec254a590>,\n",
              " <torchtext.legacy.data.example.Example at 0x7f2ec254a790>,\n",
              " <torchtext.legacy.data.example.Example at 0x7f2ec254a810>,\n",
              " <torchtext.legacy.data.example.Example at 0x7f2ec254ac90>,\n",
              " <torchtext.legacy.data.example.Example at 0x7f2ec254c0d0>,\n",
              " <torchtext.legacy.data.example.Example at 0x7f2ec254c690>,\n",
              " <torchtext.legacy.data.example.Example at 0x7f2ec254cb10>,\n",
              " <torchtext.legacy.data.example.Example at 0x7f2ec254d090>,\n",
              " <torchtext.legacy.data.example.Example at 0x7f2ec254d1d0>,\n",
              " <torchtext.legacy.data.example.Example at 0x7f2ec254d6d0>,\n",
              " <torchtext.legacy.data.example.Example at 0x7f2ec254dd10>,\n",
              " <torchtext.legacy.data.example.Example at 0x7f2ec2551350>,\n",
              " <torchtext.legacy.data.example.Example at 0x7f2ec2551910>,\n",
              " <torchtext.legacy.data.example.Example at 0x7f2ec2551c90>,\n",
              " <torchtext.legacy.data.example.Example at 0x7f2ec2595650>,\n",
              " <torchtext.legacy.data.example.Example at 0x7f2ec2595bd0>,\n",
              " <torchtext.legacy.data.example.Example at 0x7f2ec2545090>,\n",
              " <torchtext.legacy.data.example.Example at 0x7f2ec2545510>,\n",
              " <torchtext.legacy.data.example.Example at 0x7f2ec2545790>,\n",
              " <torchtext.legacy.data.example.Example at 0x7f2ec25457d0>,\n",
              " <torchtext.legacy.data.example.Example at 0x7f2ec2545c90>,\n",
              " <torchtext.legacy.data.example.Example at 0x7f2ec2545fd0>,\n",
              " <torchtext.legacy.data.example.Example at 0x7f2ec2554a10>,\n",
              " <torchtext.legacy.data.example.Example at 0x7f2ec2554f50>,\n",
              " <torchtext.legacy.data.example.Example at 0x7f2ec25563d0>,\n",
              " <torchtext.legacy.data.example.Example at 0x7f2ec25564d0>,\n",
              " <torchtext.legacy.data.example.Example at 0x7f2ec25569d0>,\n",
              " <torchtext.legacy.data.example.Example at 0x7f2ec2556d90>,\n",
              " <torchtext.legacy.data.example.Example at 0x7f2ec2559590>,\n",
              " <torchtext.legacy.data.example.Example at 0x7f2ec25599d0>,\n",
              " <torchtext.legacy.data.example.Example at 0x7f2ec2559c10>,\n",
              " <torchtext.legacy.data.example.Example at 0x7f2ec255b190>,\n",
              " <torchtext.legacy.data.example.Example at 0x7f2ec255b590>,\n",
              " <torchtext.legacy.data.example.Example at 0x7f2ec255b950>,\n",
              " <torchtext.legacy.data.example.Example at 0x7f2ec255bc50>,\n",
              " <torchtext.legacy.data.example.Example at 0x7f2ec255bdd0>,\n",
              " <torchtext.legacy.data.example.Example at 0x7f2ec255bf10>,\n",
              " <torchtext.legacy.data.example.Example at 0x7f2ec255e250>,\n",
              " <torchtext.legacy.data.example.Example at 0x7f2ec255e310>,\n",
              " <torchtext.legacy.data.example.Example at 0x7f2ec255e9d0>,\n",
              " <torchtext.legacy.data.example.Example at 0x7f2ec2561090>,\n",
              " <torchtext.legacy.data.example.Example at 0x7f2ec2561310>,\n",
              " <torchtext.legacy.data.example.Example at 0x7f2ec2561590>,\n",
              " <torchtext.legacy.data.example.Example at 0x7f2ec2561910>,\n",
              " <torchtext.legacy.data.example.Example at 0x7f2ec2561f10>,\n",
              " <torchtext.legacy.data.example.Example at 0x7f2ec2563210>,\n",
              " <torchtext.legacy.data.example.Example at 0x7f2ec2563590>,\n",
              " <torchtext.legacy.data.example.Example at 0x7f2ec2563650>,\n",
              " <torchtext.legacy.data.example.Example at 0x7f2ec2563bd0>,\n",
              " <torchtext.legacy.data.example.Example at 0x7f2ec25662d0>,\n",
              " <torchtext.legacy.data.example.Example at 0x7f2ec25668d0>,\n",
              " <torchtext.legacy.data.example.Example at 0x7f2ec2566c50>,\n",
              " <torchtext.legacy.data.example.Example at 0x7f2ec256a210>,\n",
              " <torchtext.legacy.data.example.Example at 0x7f2ec256a550>,\n",
              " <torchtext.legacy.data.example.Example at 0x7f2ec256ab90>,\n",
              " <torchtext.legacy.data.example.Example at 0x7f2ec256c1d0>,\n",
              " <torchtext.legacy.data.example.Example at 0x7f2ec256c690>,\n",
              " <torchtext.legacy.data.example.Example at 0x7f2ec256c8d0>,\n",
              " <torchtext.legacy.data.example.Example at 0x7f2ec256ced0>,\n",
              " <torchtext.legacy.data.example.Example at 0x7f2ec256d190>,\n",
              " <torchtext.legacy.data.example.Example at 0x7f2ec256db90>,\n",
              " <torchtext.legacy.data.example.Example at 0x7f2ec256ddd0>,\n",
              " <torchtext.legacy.data.example.Example at 0x7f2ec256de90>,\n",
              " <torchtext.legacy.data.example.Example at 0x7f2ec2570250>,\n",
              " <torchtext.legacy.data.example.Example at 0x7f2ec2570710>,\n",
              " <torchtext.legacy.data.example.Example at 0x7f2ec2570c50>,\n",
              " <torchtext.legacy.data.example.Example at 0x7f2ec2570ed0>,\n",
              " <torchtext.legacy.data.example.Example at 0x7f2ec2573890>,\n",
              " <torchtext.legacy.data.example.Example at 0x7f2ec23340d0>,\n",
              " <torchtext.legacy.data.example.Example at 0x7f2ec23348d0>,\n",
              " <torchtext.legacy.data.example.Example at 0x7f2ec2334910>,\n",
              " <torchtext.legacy.data.example.Example at 0x7f2ec2334ad0>,\n",
              " <torchtext.legacy.data.example.Example at 0x7f2ec233a090>,\n",
              " <torchtext.legacy.data.example.Example at 0x7f2ec233a410>,\n",
              " <torchtext.legacy.data.example.Example at 0x7f2ec233a590>,\n",
              " <torchtext.legacy.data.example.Example at 0x7f2ec233aed0>,\n",
              " <torchtext.legacy.data.example.Example at 0x7f2ec233b0d0>,\n",
              " <torchtext.legacy.data.example.Example at 0x7f2ec233b190>,\n",
              " <torchtext.legacy.data.example.Example at 0x7f2ec233b790>,\n",
              " <torchtext.legacy.data.example.Example at 0x7f2ec233be90>,\n",
              " <torchtext.legacy.data.example.Example at 0x7f2ec2338510>,\n",
              " <torchtext.legacy.data.example.Example at 0x7f2ec2338d10>,\n",
              " <torchtext.legacy.data.example.Example at 0x7f2ec2338e50>,\n",
              " <torchtext.legacy.data.example.Example at 0x7f2ec233f390>,\n",
              " <torchtext.legacy.data.example.Example at 0x7f2ec233fa90>,\n",
              " <torchtext.legacy.data.example.Example at 0x7f2ec233fe90>,\n",
              " <torchtext.legacy.data.example.Example at 0x7f2ec2340110>,\n",
              " <torchtext.legacy.data.example.Example at 0x7f2ec23406d0>,\n",
              " <torchtext.legacy.data.example.Example at 0x7f2ec2340a90>,\n",
              " <torchtext.legacy.data.example.Example at 0x7f2ec2340bd0>,\n",
              " <torchtext.legacy.data.example.Example at 0x7f2ec2340f90>,\n",
              " <torchtext.legacy.data.example.Example at 0x7f2ec23435d0>,\n",
              " <torchtext.legacy.data.example.Example at 0x7f2ec2343c50>,\n",
              " <torchtext.legacy.data.example.Example at 0x7f2ec2343d90>,\n",
              " <torchtext.legacy.data.example.Example at 0x7f2ec23452d0>,\n",
              " <torchtext.legacy.data.example.Example at 0x7f2ec23458d0>,\n",
              " <torchtext.legacy.data.example.Example at 0x7f2ec2345b90>,\n",
              " <torchtext.legacy.data.example.Example at 0x7f2ec2347090>,\n",
              " <torchtext.legacy.data.example.Example at 0x7f2ec2347b90>,\n",
              " <torchtext.legacy.data.example.Example at 0x7f2ec2347bd0>,\n",
              " <torchtext.legacy.data.example.Example at 0x7f2ec2347f10>,\n",
              " <torchtext.legacy.data.example.Example at 0x7f2ec234d250>,\n",
              " <torchtext.legacy.data.example.Example at 0x7f2ec234d690>,\n",
              " <torchtext.legacy.data.example.Example at 0x7f2ec234d810>,\n",
              " <torchtext.legacy.data.example.Example at 0x7f2ec234de10>,\n",
              " <torchtext.legacy.data.example.Example at 0x7f2ec234f4d0>,\n",
              " <torchtext.legacy.data.example.Example at 0x7f2ec234fb50>,\n",
              " <torchtext.legacy.data.example.Example at 0x7f2ec2351190>,\n",
              " <torchtext.legacy.data.example.Example at 0x7f2ec2351510>,\n",
              " <torchtext.legacy.data.example.Example at 0x7f2ec2351610>,\n",
              " <torchtext.legacy.data.example.Example at 0x7f2ec23518d0>,\n",
              " <torchtext.legacy.data.example.Example at 0x7f2ec2351350>,\n",
              " <torchtext.legacy.data.example.Example at 0x7f2ec2351bd0>,\n",
              " <torchtext.legacy.data.example.Example at 0x7f2ec2351e50>,\n",
              " <torchtext.legacy.data.example.Example at 0x7f2ec23521d0>,\n",
              " <torchtext.legacy.data.example.Example at 0x7f2ec2352410>,\n",
              " <torchtext.legacy.data.example.Example at 0x7f2ec2352ad0>,\n",
              " <torchtext.legacy.data.example.Example at 0x7f2ec2353110>,\n",
              " <torchtext.legacy.data.example.Example at 0x7f2ec2353750>,\n",
              " <torchtext.legacy.data.example.Example at 0x7f2ec23562d0>,\n",
              " <torchtext.legacy.data.example.Example at 0x7f2ec2356690>,\n",
              " <torchtext.legacy.data.example.Example at 0x7f2ec2356950>,\n",
              " <torchtext.legacy.data.example.Example at 0x7f2ec2356e50>,\n",
              " <torchtext.legacy.data.example.Example at 0x7f2ec2358350>,\n",
              " <torchtext.legacy.data.example.Example at 0x7f2ec23587d0>,\n",
              " <torchtext.legacy.data.example.Example at 0x7f2ec2358ed0>,\n",
              " <torchtext.legacy.data.example.Example at 0x7f2ec235a050>,\n",
              " <torchtext.legacy.data.example.Example at 0x7f2ec235a450>,\n",
              " <torchtext.legacy.data.example.Example at 0x7f2ec235a850>,\n",
              " <torchtext.legacy.data.example.Example at 0x7f2ec235aa10>,\n",
              " <torchtext.legacy.data.example.Example at 0x7f2ec235af90>,\n",
              " <torchtext.legacy.data.example.Example at 0x7f2ec2360350>,\n",
              " <torchtext.legacy.data.example.Example at 0x7f2ec23607d0>,\n",
              " <torchtext.legacy.data.example.Example at 0x7f2ec2360a10>,\n",
              " <torchtext.legacy.data.example.Example at 0x7f2ec23621d0>,\n",
              " <torchtext.legacy.data.example.Example at 0x7f2ec2362a50>,\n",
              " <torchtext.legacy.data.example.Example at 0x7f2ec2362e90>,\n",
              " <torchtext.legacy.data.example.Example at 0x7f2ec23654d0>,\n",
              " <torchtext.legacy.data.example.Example at 0x7f2ec2365b10>,\n",
              " <torchtext.legacy.data.example.Example at 0x7f2ec235e090>,\n",
              " <torchtext.legacy.data.example.Example at 0x7f2ec235e490>,\n",
              " <torchtext.legacy.data.example.Example at 0x7f2ec235e6d0>,\n",
              " <torchtext.legacy.data.example.Example at 0x7f2ec235ed50>,\n",
              " <torchtext.legacy.data.example.Example at 0x7f2ec2368350>,\n",
              " <torchtext.legacy.data.example.Example at 0x7f2ec2368990>,\n",
              " <torchtext.legacy.data.example.Example at 0x7f2ec2368f50>,\n",
              " <torchtext.legacy.data.example.Example at 0x7f2ec236a4d0>,\n",
              " <torchtext.legacy.data.example.Example at 0x7f2ec236ad10>,\n",
              " <torchtext.legacy.data.example.Example at 0x7f2ec236c2d0>,\n",
              " <torchtext.legacy.data.example.Example at 0x7f2ec236c710>,\n",
              " <torchtext.legacy.data.example.Example at 0x7f2ec236cbd0>,\n",
              " <torchtext.legacy.data.example.Example at 0x7f2ec236e210>,\n",
              " <torchtext.legacy.data.example.Example at 0x7f2ec236e7d0>,\n",
              " <torchtext.legacy.data.example.Example at 0x7f2ec236ee50>,\n",
              " <torchtext.legacy.data.example.Example at 0x7f2ec236f410>,\n",
              " <torchtext.legacy.data.example.Example at 0x7f2ec236f990>,\n",
              " <torchtext.legacy.data.example.Example at 0x7f2ec236fe90>,\n",
              " <torchtext.legacy.data.example.Example at 0x7f2ec22f4190>,\n",
              " <torchtext.legacy.data.example.Example at 0x7f2ec22f4710>,\n",
              " <torchtext.legacy.data.example.Example at 0x7f2ec22f47d0>,\n",
              " <torchtext.legacy.data.example.Example at 0x7f2ec22f4b90>,\n",
              " <torchtext.legacy.data.example.Example at 0x7f2ec22f6150>,\n",
              " <torchtext.legacy.data.example.Example at 0x7f2ec22f6850>,\n",
              " <torchtext.legacy.data.example.Example at 0x7f2ec22f6a90>,\n",
              " <torchtext.legacy.data.example.Example at 0x7f2ec22f8210>,\n",
              " <torchtext.legacy.data.example.Example at 0x7f2ec22f8950>,\n",
              " <torchtext.legacy.data.example.Example at 0x7f2ec22f8c90>,\n",
              " <torchtext.legacy.data.example.Example at 0x7f2ec22f9090>,\n",
              " <torchtext.legacy.data.example.Example at 0x7f2ec22f95d0>,\n",
              " <torchtext.legacy.data.example.Example at 0x7f2ec22f9cd0>,\n",
              " <torchtext.legacy.data.example.Example at 0x7f2ec2372450>,\n",
              " <torchtext.legacy.data.example.Example at 0x7f2ec2372950>,\n",
              " <torchtext.legacy.data.example.Example at 0x7f2ec2372fd0>,\n",
              " <torchtext.legacy.data.example.Example at 0x7f2ec22fe1d0>,\n",
              " <torchtext.legacy.data.example.Example at 0x7f2ec22fe590>,\n",
              " <torchtext.legacy.data.example.Example at 0x7f2ec22fe810>,\n",
              " <torchtext.legacy.data.example.Example at 0x7f2ec22fec50>,\n",
              " <torchtext.legacy.data.example.Example at 0x7f2ec2300150>,\n",
              " <torchtext.legacy.data.example.Example at 0x7f2ec2300210>,\n",
              " <torchtext.legacy.data.example.Example at 0x7f2ec23007d0>,\n",
              " <torchtext.legacy.data.example.Example at 0x7f2ec2300f90>,\n",
              " <torchtext.legacy.data.example.Example at 0x7f2ec2301610>,\n",
              " <torchtext.legacy.data.example.Example at 0x7f2ec2301c10>,\n",
              " <torchtext.legacy.data.example.Example at 0x7f2ec2301e50>,\n",
              " <torchtext.legacy.data.example.Example at 0x7f2ec2303490>,\n",
              " <torchtext.legacy.data.example.Example at 0x7f2ec2303750>,\n",
              " <torchtext.legacy.data.example.Example at 0x7f2ec2303d50>,\n",
              " <torchtext.legacy.data.example.Example at 0x7f2ec2304150>,\n",
              " <torchtext.legacy.data.example.Example at 0x7f2ec2304250>,\n",
              " <torchtext.legacy.data.example.Example at 0x7f2ec2304710>,\n",
              " <torchtext.legacy.data.example.Example at 0x7f2ec23047d0>,\n",
              " <torchtext.legacy.data.example.Example at 0x7f2ec2304c90>,\n",
              " <torchtext.legacy.data.example.Example at 0x7f2ec2305190>,\n",
              " <torchtext.legacy.data.example.Example at 0x7f2ec2305790>,\n",
              " <torchtext.legacy.data.example.Example at 0x7f2ec2305d90>,\n",
              " <torchtext.legacy.data.example.Example at 0x7f2ec230b190>,\n",
              " <torchtext.legacy.data.example.Example at 0x7f2ec230b910>,\n",
              " <torchtext.legacy.data.example.Example at 0x7f2ec230bc10>,\n",
              " <torchtext.legacy.data.example.Example at 0x7f2ec230e110>,\n",
              " <torchtext.legacy.data.example.Example at 0x7f2ec230e890>,\n",
              " <torchtext.legacy.data.example.Example at 0x7f2ec2310250>,\n",
              " <torchtext.legacy.data.example.Example at 0x7f2ec2310650>,\n",
              " <torchtext.legacy.data.example.Example at 0x7f2ec2310910>,\n",
              " <torchtext.legacy.data.example.Example at 0x7f2ec2310f10>,\n",
              " <torchtext.legacy.data.example.Example at 0x7f2ec2309290>,\n",
              " <torchtext.legacy.data.example.Example at 0x7f2ec2309490>,\n",
              " <torchtext.legacy.data.example.Example at 0x7f2ec2309550>,\n",
              " <torchtext.legacy.data.example.Example at 0x7f2ec2309ad0>,\n",
              " <torchtext.legacy.data.example.Example at 0x7f2ec2309dd0>,\n",
              " <torchtext.legacy.data.example.Example at 0x7f2ec23140d0>,\n",
              " <torchtext.legacy.data.example.Example at 0x7f2ec2314a10>,\n",
              " <torchtext.legacy.data.example.Example at 0x7f2ec2314ad0>,\n",
              " <torchtext.legacy.data.example.Example at 0x7f2ec2316310>,\n",
              " <torchtext.legacy.data.example.Example at 0x7f2ec2316790>,\n",
              " <torchtext.legacy.data.example.Example at 0x7f2ec2316ad0>,\n",
              " <torchtext.legacy.data.example.Example at 0x7f2ec2316fd0>,\n",
              " <torchtext.legacy.data.example.Example at 0x7f2ec2318350>,\n",
              " <torchtext.legacy.data.example.Example at 0x7f2ec23189d0>,\n",
              " <torchtext.legacy.data.example.Example at 0x7f2ec2318d10>,\n",
              " <torchtext.legacy.data.example.Example at 0x7f2ec2318f90>,\n",
              " <torchtext.legacy.data.example.Example at 0x7f2ec231a450>,\n",
              " <torchtext.legacy.data.example.Example at 0x7f2ec231c090>,\n",
              " <torchtext.legacy.data.example.Example at 0x7f2ec231c0d0>,\n",
              " <torchtext.legacy.data.example.Example at 0x7f2ec231c3d0>,\n",
              " <torchtext.legacy.data.example.Example at 0x7f2ec231c790>,\n",
              " <torchtext.legacy.data.example.Example at 0x7f2ec231cc50>,\n",
              " <torchtext.legacy.data.example.Example at 0x7f2ec231c390>,\n",
              " <torchtext.legacy.data.example.Example at 0x7f2ec2320790>,\n",
              " <torchtext.legacy.data.example.Example at 0x7f2ec2320c90>,\n",
              " <torchtext.legacy.data.example.Example at 0x7f2ec2320fd0>,\n",
              " <torchtext.legacy.data.example.Example at 0x7f2ec2322710>,\n",
              " <torchtext.legacy.data.example.Example at 0x7f2ec2322ad0>,\n",
              " <torchtext.legacy.data.example.Example at 0x7f2ec231e0d0>,\n",
              " <torchtext.legacy.data.example.Example at 0x7f2ec231e650>,\n",
              " <torchtext.legacy.data.example.Example at 0x7f2ec231ecd0>,\n",
              " <torchtext.legacy.data.example.Example at 0x7f2ec2326090>,\n",
              " <torchtext.legacy.data.example.Example at 0x7f2ec2326610>,\n",
              " <torchtext.legacy.data.example.Example at 0x7f2ec2326d50>,\n",
              " <torchtext.legacy.data.example.Example at 0x7f2ec2327690>,\n",
              " <torchtext.legacy.data.example.Example at 0x7f2ec2327b50>,\n",
              " <torchtext.legacy.data.example.Example at 0x7f2ec2329050>,\n",
              " <torchtext.legacy.data.example.Example at 0x7f2ec2329550>,\n",
              " <torchtext.legacy.data.example.Example at 0x7f2ec2329750>,\n",
              " <torchtext.legacy.data.example.Example at 0x7f2ec2329e50>,\n",
              " <torchtext.legacy.data.example.Example at 0x7f2ec232b5d0>,\n",
              " <torchtext.legacy.data.example.Example at 0x7f2ec232bb90>,\n",
              " <torchtext.legacy.data.example.Example at 0x7f2ec232e290>,\n",
              " <torchtext.legacy.data.example.Example at 0x7f2ec232e390>,\n",
              " <torchtext.legacy.data.example.Example at 0x7f2ec232e5d0>,\n",
              " <torchtext.legacy.data.example.Example at 0x7f2ec232eb10>,\n",
              " <torchtext.legacy.data.example.Example at 0x7f2ec232f310>,\n",
              " <torchtext.legacy.data.example.Example at 0x7f2ec232f910>,\n",
              " <torchtext.legacy.data.example.Example at 0x7f2ec232fc90>,\n",
              " <torchtext.legacy.data.example.Example at 0x7f2ec232f790>,\n",
              " <torchtext.legacy.data.example.Example at 0x7f2ec22b43d0>,\n",
              " <torchtext.legacy.data.example.Example at 0x7f2ec22b4a10>,\n",
              " <torchtext.legacy.data.example.Example at 0x7f2ec22b4dd0>,\n",
              " <torchtext.legacy.data.example.Example at 0x7f2ec22b5050>,\n",
              " <torchtext.legacy.data.example.Example at 0x7f2ec22b5550>,\n",
              " <torchtext.legacy.data.example.Example at 0x7f2ec22b5ad0>,\n",
              " <torchtext.legacy.data.example.Example at 0x7f2ec22b5e50>,\n",
              " <torchtext.legacy.data.example.Example at 0x7f2ec22b7290>,\n",
              " <torchtext.legacy.data.example.Example at 0x7f2ec22b7410>,\n",
              " <torchtext.legacy.data.example.Example at 0x7f2ec22b7850>,\n",
              " <torchtext.legacy.data.example.Example at 0x7f2ec22b7f10>,\n",
              " <torchtext.legacy.data.example.Example at 0x7f2ec22b9210>,\n",
              " <torchtext.legacy.data.example.Example at 0x7f2ec22b94d0>,\n",
              " <torchtext.legacy.data.example.Example at 0x7f2ec22b9590>,\n",
              " <torchtext.legacy.data.example.Example at 0x7f2ec22b9c10>,\n",
              " <torchtext.legacy.data.example.Example at 0x7f2ec22b9ed0>,\n",
              " <torchtext.legacy.data.example.Example at 0x7f2ec22bb290>,\n",
              " <torchtext.legacy.data.example.Example at 0x7f2ec22bb650>,\n",
              " <torchtext.legacy.data.example.Example at 0x7f2ec22bbcd0>,\n",
              " <torchtext.legacy.data.example.Example at 0x7f2ec22bd1d0>,\n",
              " <torchtext.legacy.data.example.Example at 0x7f2ec22bd4d0>,\n",
              " <torchtext.legacy.data.example.Example at 0x7f2ec22bd9d0>,\n",
              " <torchtext.legacy.data.example.Example at 0x7f2ec22bde10>,\n",
              " <torchtext.legacy.data.example.Example at 0x7f2ec22bf290>,\n",
              " <torchtext.legacy.data.example.Example at 0x7f2ec22bf890>,\n",
              " <torchtext.legacy.data.example.Example at 0x7f2ec22bf8d0>,\n",
              " <torchtext.legacy.data.example.Example at 0x7f2ec22bfa90>,\n",
              " <torchtext.legacy.data.example.Example at 0x7f2ec22bfc50>,\n",
              " <torchtext.legacy.data.example.Example at 0x7f2ec22c3590>,\n",
              " <torchtext.legacy.data.example.Example at 0x7f2ec22c3a50>,\n",
              " <torchtext.legacy.data.example.Example at 0x7f2ec22c3b90>,\n",
              " <torchtext.legacy.data.example.Example at 0x7f2ec22c3e50>,\n",
              " <torchtext.legacy.data.example.Example at 0x7f2ec22c8290>,\n",
              " <torchtext.legacy.data.example.Example at 0x7f2ec22c8890>,\n",
              " <torchtext.legacy.data.example.Example at 0x7f2ec22c8d90>,\n",
              " <torchtext.legacy.data.example.Example at 0x7f2ec22c9410>,\n",
              " <torchtext.legacy.data.example.Example at 0x7f2ec22c9c10>,\n",
              " <torchtext.legacy.data.example.Example at 0x7f2ec22cb4d0>,\n",
              " <torchtext.legacy.data.example.Example at 0x7f2ec22cb890>,\n",
              " <torchtext.legacy.data.example.Example at 0x7f2ec22cb950>,\n",
              " <torchtext.legacy.data.example.Example at 0x7f2ec22cbe10>,\n",
              " <torchtext.legacy.data.example.Example at 0x7f2ec22cc150>,\n",
              " <torchtext.legacy.data.example.Example at 0x7f2ec22cc4d0>,\n",
              " <torchtext.legacy.data.example.Example at 0x7f2ec22cca90>,\n",
              " <torchtext.legacy.data.example.Example at 0x7f2ec22ccb90>,\n",
              " <torchtext.legacy.data.example.Example at 0x7f2ec22ce050>,\n",
              " <torchtext.legacy.data.example.Example at 0x7f2ec22ce5d0>,\n",
              " <torchtext.legacy.data.example.Example at 0x7f2ec22ce690>,\n",
              " <torchtext.legacy.data.example.Example at 0x7f2ec22ceb10>,\n",
              " <torchtext.legacy.data.example.Example at 0x7f2ec22cee90>,\n",
              " <torchtext.legacy.data.example.Example at 0x7f2ec22d00d0>,\n",
              " <torchtext.legacy.data.example.Example at 0x7f2ec22d01d0>,\n",
              " <torchtext.legacy.data.example.Example at 0x7f2ec22d0850>,\n",
              " <torchtext.legacy.data.example.Example at 0x7f2ec22d0dd0>,\n",
              " <torchtext.legacy.data.example.Example at 0x7f2ec22d3350>,\n",
              " <torchtext.legacy.data.example.Example at 0x7f2ec22d3c10>,\n",
              " <torchtext.legacy.data.example.Example at 0x7f2ec22d5110>,\n",
              " <torchtext.legacy.data.example.Example at 0x7f2ec22d5850>,\n",
              " <torchtext.legacy.data.example.Example at 0x7f2ec22d6150>,\n",
              " <torchtext.legacy.data.example.Example at 0x7f2ec22d6510>,\n",
              " <torchtext.legacy.data.example.Example at 0x7f2ec22d69d0>,\n",
              " <torchtext.legacy.data.example.Example at 0x7f2ec22d6dd0>,\n",
              " <torchtext.legacy.data.example.Example at 0x7f2ec22d7250>,\n",
              " <torchtext.legacy.data.example.Example at 0x7f2ec22d7610>,\n",
              " <torchtext.legacy.data.example.Example at 0x7f2ec22d7850>,\n",
              " <torchtext.legacy.data.example.Example at 0x7f2ec22d78d0>,\n",
              " <torchtext.legacy.data.example.Example at 0x7f2ec22d7790>,\n",
              " <torchtext.legacy.data.example.Example at 0x7f2ec22dc2d0>,\n",
              " <torchtext.legacy.data.example.Example at 0x7f2ec22dc790>,\n",
              " <torchtext.legacy.data.example.Example at 0x7f2ec22dcb90>,\n",
              " <torchtext.legacy.data.example.Example at 0x7f2ec22dcd90>,\n",
              " <torchtext.legacy.data.example.Example at 0x7f2ec22de4d0>,\n",
              " <torchtext.legacy.data.example.Example at 0x7f2ec22de950>,\n",
              " <torchtext.legacy.data.example.Example at 0x7f2ec22de990>,\n",
              " <torchtext.legacy.data.example.Example at 0x7f2ec22da490>,\n",
              " <torchtext.legacy.data.example.Example at 0x7f2ec22da750>,\n",
              " <torchtext.legacy.data.example.Example at 0x7f2ec22dac90>,\n",
              " <torchtext.legacy.data.example.Example at 0x7f2ec22e3650>,\n",
              " <torchtext.legacy.data.example.Example at 0x7f2ec22e3b90>,\n",
              " <torchtext.legacy.data.example.Example at 0x7f2ec22e3e10>,\n",
              " <torchtext.legacy.data.example.Example at 0x7f2ec22e43d0>,\n",
              " <torchtext.legacy.data.example.Example at 0x7f2ec22e4a10>,\n",
              " <torchtext.legacy.data.example.Example at 0x7f2ec22e4ed0>,\n",
              " <torchtext.legacy.data.example.Example at 0x7f2ec22e7290>,\n",
              " <torchtext.legacy.data.example.Example at 0x7f2ec22e7790>,\n",
              " <torchtext.legacy.data.example.Example at 0x7f2ec22e9050>,\n",
              " <torchtext.legacy.data.example.Example at 0x7f2ec22e9310>,\n",
              " <torchtext.legacy.data.example.Example at 0x7f2ec22e9590>,\n",
              " <torchtext.legacy.data.example.Example at 0x7f2ec22e9b10>,\n",
              " <torchtext.legacy.data.example.Example at 0x7f2ec22e9e90>,\n",
              " <torchtext.legacy.data.example.Example at 0x7f2ec22eb410>,\n",
              " <torchtext.legacy.data.example.Example at 0x7f2ec22eb4d0>,\n",
              " <torchtext.legacy.data.example.Example at 0x7f2ec22eb950>,\n",
              " <torchtext.legacy.data.example.Example at 0x7f2ec22ebd10>,\n",
              " <torchtext.legacy.data.example.Example at 0x7f2ec22ebf90>,\n",
              " <torchtext.legacy.data.example.Example at 0x7f2ec22f04d0>,\n",
              " <torchtext.legacy.data.example.Example at 0x7f2ec22f0d50>,\n",
              " <torchtext.legacy.data.example.Example at 0x7f2ec22f22d0>,\n",
              " <torchtext.legacy.data.example.Example at 0x7f2ec22f2810>,\n",
              " <torchtext.legacy.data.example.Example at 0x7f2ec22f2c90>,\n",
              " <torchtext.legacy.data.example.Example at 0x7f2ec22f2f50>,\n",
              " <torchtext.legacy.data.example.Example at 0x7f2ec22f2fd0>,\n",
              " <torchtext.legacy.data.example.Example at 0x7f2ec22f3390>,\n",
              " <torchtext.legacy.data.example.Example at 0x7f2ec22f39d0>,\n",
              " <torchtext.legacy.data.example.Example at 0x7f2ec22f3d50>,\n",
              " <torchtext.legacy.data.example.Example at 0x7f2ec22f3fd0>,\n",
              " <torchtext.legacy.data.example.Example at 0x7f2ec2274590>,\n",
              " <torchtext.legacy.data.example.Example at 0x7f2ec2274c90>,\n",
              " <torchtext.legacy.data.example.Example at 0x7f2ec2275310>,\n",
              " <torchtext.legacy.data.example.Example at 0x7f2ec2275750>,\n",
              " <torchtext.legacy.data.example.Example at 0x7f2ec2275c90>,\n",
              " <torchtext.legacy.data.example.Example at 0x7f2ec2275fd0>,\n",
              " <torchtext.legacy.data.example.Example at 0x7f2ec22797d0>,\n",
              " <torchtext.legacy.data.example.Example at 0x7f2ec2279cd0>,\n",
              " <torchtext.legacy.data.example.Example at 0x7f2ec227a3d0>,\n",
              " <torchtext.legacy.data.example.Example at 0x7f2ec227a6d0>,\n",
              " <torchtext.legacy.data.example.Example at 0x7f2ec227ac90>,\n",
              " <torchtext.legacy.data.example.Example at 0x7f2ec227c290>,\n",
              " <torchtext.legacy.data.example.Example at 0x7f2ec227c3d0>,\n",
              " <torchtext.legacy.data.example.Example at 0x7f2ec227c750>,\n",
              " <torchtext.legacy.data.example.Example at 0x7f2ec227cb10>,\n",
              " <torchtext.legacy.data.example.Example at 0x7f2ec227ce90>,\n",
              " <torchtext.legacy.data.example.Example at 0x7f2ec22836d0>,\n",
              " <torchtext.legacy.data.example.Example at 0x7f2ec2283b50>,\n",
              " <torchtext.legacy.data.example.Example at 0x7f2ec2283e50>,\n",
              " <torchtext.legacy.data.example.Example at 0x7f2ec2284350>,\n",
              " <torchtext.legacy.data.example.Example at 0x7f2ec22843d0>,\n",
              " <torchtext.legacy.data.example.Example at 0x7f2ec2284450>,\n",
              " <torchtext.legacy.data.example.Example at 0x7f2ec2284850>,\n",
              " <torchtext.legacy.data.example.Example at 0x7f2ec2284bd0>,\n",
              " <torchtext.legacy.data.example.Example at 0x7f2ec2284fd0>,\n",
              " <torchtext.legacy.data.example.Example at 0x7f2ec2285590>,\n",
              " <torchtext.legacy.data.example.Example at 0x7f2ec2285e10>,\n",
              " <torchtext.legacy.data.example.Example at 0x7f2ec2287250>,\n",
              " <torchtext.legacy.data.example.Example at 0x7f2ec2287b50>,\n",
              " <torchtext.legacy.data.example.Example at 0x7f2ec2287e50>,\n",
              " <torchtext.legacy.data.example.Example at 0x7f2ec2287f10>,\n",
              " <torchtext.legacy.data.example.Example at 0x7f2ec2288790>,\n",
              " <torchtext.legacy.data.example.Example at 0x7f2ec2288c90>,\n",
              " <torchtext.legacy.data.example.Example at 0x7f2ec2288fd0>,\n",
              " <torchtext.legacy.data.example.Example at 0x7f2ec228a6d0>,\n",
              " <torchtext.legacy.data.example.Example at 0x7f2ec228ad50>,\n",
              " <torchtext.legacy.data.example.Example at 0x7f2ec228c450>,\n",
              " <torchtext.legacy.data.example.Example at 0x7f2ec228c8d0>,\n",
              " <torchtext.legacy.data.example.Example at 0x7f2ec228c9d0>,\n",
              " <torchtext.legacy.data.example.Example at 0x7f2ec228f1d0>,\n",
              " <torchtext.legacy.data.example.Example at 0x7f2ec228f650>,\n",
              " <torchtext.legacy.data.example.Example at 0x7f2ec228f990>,\n",
              " <torchtext.legacy.data.example.Example at 0x7f2ec228fc50>,\n",
              " <torchtext.legacy.data.example.Example at 0x7f2ec228fc90>,\n",
              " <torchtext.legacy.data.example.Example at 0x7f2ec2293150>,\n",
              " <torchtext.legacy.data.example.Example at 0x7f2ec2293550>,\n",
              " <torchtext.legacy.data.example.Example at 0x7f2ec2293a10>,\n",
              " <torchtext.legacy.data.example.Example at 0x7f2ec2293c50>,\n",
              " <torchtext.legacy.data.example.Example at 0x7f2ec2293e90>,\n",
              " <torchtext.legacy.data.example.Example at 0x7f2ec2293ed0>,\n",
              " <torchtext.legacy.data.example.Example at 0x7f2ec2294250>,\n",
              " <torchtext.legacy.data.example.Example at 0x7f2ec2294890>,\n",
              " <torchtext.legacy.data.example.Example at 0x7f2ec2294a90>,\n",
              " <torchtext.legacy.data.example.Example at 0x7f2ec2296050>,\n",
              " <torchtext.legacy.data.example.Example at 0x7f2ec2296750>,\n",
              " <torchtext.legacy.data.example.Example at 0x7f2ec2296f50>,\n",
              " <torchtext.legacy.data.example.Example at 0x7f2ec2298350>,\n",
              " <torchtext.legacy.data.example.Example at 0x7f2ec22989d0>,\n",
              " <torchtext.legacy.data.example.Example at 0x7f2ec2298c90>,\n",
              " <torchtext.legacy.data.example.Example at 0x7f2ec22921d0>,\n",
              " <torchtext.legacy.data.example.Example at 0x7f2ec2292490>,\n",
              " <torchtext.legacy.data.example.Example at 0x7f2ec2292750>,\n",
              " <torchtext.legacy.data.example.Example at 0x7f2ec2292a10>,\n",
              " <torchtext.legacy.data.example.Example at 0x7f2ec2292b50>,\n",
              " <torchtext.legacy.data.example.Example at 0x7f2ec229c450>,\n",
              " <torchtext.legacy.data.example.Example at 0x7f2ec229c750>,\n",
              " <torchtext.legacy.data.example.Example at 0x7f2ec229cc90>,\n",
              " <torchtext.legacy.data.example.Example at 0x7f2ec229d290>,\n",
              " <torchtext.legacy.data.example.Example at 0x7f2ec229dd50>,\n",
              " <torchtext.legacy.data.example.Example at 0x7f2ec229f390>,\n",
              " <torchtext.legacy.data.example.Example at 0x7f2ec229f8d0>,\n",
              " <torchtext.legacy.data.example.Example at 0x7f2ec229fed0>,\n",
              " <torchtext.legacy.data.example.Example at 0x7f2ec22a3590>,\n",
              " <torchtext.legacy.data.example.Example at 0x7f2ec22a38d0>,\n",
              " <torchtext.legacy.data.example.Example at 0x7f2ec22a3a10>,\n",
              " <torchtext.legacy.data.example.Example at 0x7f2ec22a3e10>,\n",
              " <torchtext.legacy.data.example.Example at 0x7f2ec22a41d0>,\n",
              " <torchtext.legacy.data.example.Example at 0x7f2ec22a4890>,\n",
              " <torchtext.legacy.data.example.Example at 0x7f2ec22a4d90>,\n",
              " <torchtext.legacy.data.example.Example at 0x7f2ec22a7650>,\n",
              " <torchtext.legacy.data.example.Example at 0x7f2ec22a7b90>,\n",
              " <torchtext.legacy.data.example.Example at 0x7f2ec22a7c50>,\n",
              " <torchtext.legacy.data.example.Example at 0x7f2ec22ab450>,\n",
              " <torchtext.legacy.data.example.Example at 0x7f2ec22ab750>,\n",
              " <torchtext.legacy.data.example.Example at 0x7f2ec22abd10>,\n",
              " <torchtext.legacy.data.example.Example at 0x7f2ec22ac390>,\n",
              " <torchtext.legacy.data.example.Example at 0x7f2ec22ac3d0>,\n",
              " <torchtext.legacy.data.example.Example at 0x7f2ec22acb90>,\n",
              " <torchtext.legacy.data.example.Example at 0x7f2ec22acc50>,\n",
              " <torchtext.legacy.data.example.Example at 0x7f2ec22aa2d0>,\n",
              " <torchtext.legacy.data.example.Example at 0x7f2ec22aa690>,\n",
              " <torchtext.legacy.data.example.Example at 0x7f2ec22aabd0>,\n",
              " <torchtext.legacy.data.example.Example at 0x7f2ec22b2310>,\n",
              " <torchtext.legacy.data.example.Example at 0x7f2ec22b2b50>,\n",
              " <torchtext.legacy.data.example.Example at 0x7f2ec22b3210>,\n",
              " <torchtext.legacy.data.example.Example at 0x7f2ec22b37d0>,\n",
              " <torchtext.legacy.data.example.Example at 0x7f2ec22b39d0>,\n",
              " <torchtext.legacy.data.example.Example at 0x7f2ec22b3dd0>,\n",
              " <torchtext.legacy.data.example.Example at 0x7f2ec22b3fd0>,\n",
              " <torchtext.legacy.data.example.Example at 0x7f2ec2235110>,\n",
              " <torchtext.legacy.data.example.Example at 0x7f2ec2235290>,\n",
              " <torchtext.legacy.data.example.Example at 0x7f2ec22357d0>,\n",
              " <torchtext.legacy.data.example.Example at 0x7f2ec2235c50>,\n",
              " <torchtext.legacy.data.example.Example at 0x7f2ec2236090>,\n",
              " <torchtext.legacy.data.example.Example at 0x7f2ec22363d0>,\n",
              " <torchtext.legacy.data.example.Example at 0x7f2ec2236a10>,\n",
              " <torchtext.legacy.data.example.Example at 0x7f2ec2239190>,\n",
              " <torchtext.legacy.data.example.Example at 0x7f2ec2239390>,\n",
              " <torchtext.legacy.data.example.Example at 0x7f2ec2239950>,\n",
              " <torchtext.legacy.data.example.Example at 0x7f2ec2239e90>,\n",
              " <torchtext.legacy.data.example.Example at 0x7f2ec223d190>,\n",
              " <torchtext.legacy.data.example.Example at 0x7f2ec223d650>,\n",
              " <torchtext.legacy.data.example.Example at 0x7f2ec223da10>,\n",
              " <torchtext.legacy.data.example.Example at 0x7f2ec223de90>,\n",
              " <torchtext.legacy.data.example.Example at 0x7f2ec223e350>,\n",
              " <torchtext.legacy.data.example.Example at 0x7f2ec223e8d0>,\n",
              " <torchtext.legacy.data.example.Example at 0x7f2ec223eb90>,\n",
              " <torchtext.legacy.data.example.Example at 0x7f2ec2241450>,\n",
              " <torchtext.legacy.data.example.Example at 0x7f2ec2241610>,\n",
              " <torchtext.legacy.data.example.Example at 0x7f2ec2241950>,\n",
              " <torchtext.legacy.data.example.Example at 0x7f2ec2241b10>,\n",
              " <torchtext.legacy.data.example.Example at 0x7f2ec2241fd0>,\n",
              " <torchtext.legacy.data.example.Example at 0x7f2ec22402d0>,\n",
              " <torchtext.legacy.data.example.Example at 0x7f2ec22406d0>,\n",
              " <torchtext.legacy.data.example.Example at 0x7f2ec2240bd0>,\n",
              " <torchtext.legacy.data.example.Example at 0x7f2ec2243250>,\n",
              " <torchtext.legacy.data.example.Example at 0x7f2ec2243ad0>,\n",
              " <torchtext.legacy.data.example.Example at 0x7f2ec2243fd0>,\n",
              " <torchtext.legacy.data.example.Example at 0x7f2ec2246790>,\n",
              " <torchtext.legacy.data.example.Example at 0x7f2ec2246f10>,\n",
              " <torchtext.legacy.data.example.Example at 0x7f2ec2249590>,\n",
              " <torchtext.legacy.data.example.Example at 0x7f2ec2249a50>,\n",
              " <torchtext.legacy.data.example.Example at 0x7f2ec2249dd0>,\n",
              " <torchtext.legacy.data.example.Example at 0x7f2ec224a350>,\n",
              " <torchtext.legacy.data.example.Example at 0x7f2ec224a8d0>,\n",
              " <torchtext.legacy.data.example.Example at 0x7f2ec224ab50>,\n",
              " <torchtext.legacy.data.example.Example at 0x7f2ec224ae50>,\n",
              " <torchtext.legacy.data.example.Example at 0x7f2ec224d090>,\n",
              " <torchtext.legacy.data.example.Example at 0x7f2ec224d790>,\n",
              " <torchtext.legacy.data.example.Example at 0x7f2ec224da50>,\n",
              " <torchtext.legacy.data.example.Example at 0x7f2ec2250050>,\n",
              " <torchtext.legacy.data.example.Example at 0x7f2ec2250750>,\n",
              " <torchtext.legacy.data.example.Example at 0x7f2ec2250b50>,\n",
              " <torchtext.legacy.data.example.Example at 0x7f2ec2252110>,\n",
              " <torchtext.legacy.data.example.Example at 0x7f2ec22529d0>,\n",
              " <torchtext.legacy.data.example.Example at 0x7f2ec2252dd0>,\n",
              " <torchtext.legacy.data.example.Example at 0x7f2ec2255250>,\n",
              " <torchtext.legacy.data.example.Example at 0x7f2ec2255850>,\n",
              " <torchtext.legacy.data.example.Example at 0x7f2ec2255f10>,\n",
              " <torchtext.legacy.data.example.Example at 0x7f2ec2257150>,\n",
              " <torchtext.legacy.data.example.Example at 0x7f2ec2257850>,\n",
              " <torchtext.legacy.data.example.Example at 0x7f2ec2257a90>,\n",
              " <torchtext.legacy.data.example.Example at 0x7f2ec224f290>,\n",
              " <torchtext.legacy.data.example.Example at 0x7f2ec224f6d0>,\n",
              " <torchtext.legacy.data.example.Example at 0x7f2ec224fa90>,\n",
              " <torchtext.legacy.data.example.Example at 0x7f2ec224fd50>,\n",
              " <torchtext.legacy.data.example.Example at 0x7f2ec224ffd0>,\n",
              " <torchtext.legacy.data.example.Example at 0x7f2ec225a190>,\n",
              " <torchtext.legacy.data.example.Example at 0x7f2ec225a5d0>,\n",
              " <torchtext.legacy.data.example.Example at 0x7f2ec225a7d0>,\n",
              " <torchtext.legacy.data.example.Example at 0x7f2ec225ac90>,\n",
              " <torchtext.legacy.data.example.Example at 0x7f2ec225c050>,\n",
              " <torchtext.legacy.data.example.Example at 0x7f2ec225c410>,\n",
              " <torchtext.legacy.data.example.Example at 0x7f2ec225ca50>,\n",
              " <torchtext.legacy.data.example.Example at 0x7f2ec225cfd0>,\n",
              " <torchtext.legacy.data.example.Example at 0x7f2ec225e450>,\n",
              " <torchtext.legacy.data.example.Example at 0x7f2ec225e890>,\n",
              " <torchtext.legacy.data.example.Example at 0x7f2ec225ead0>,\n",
              " <torchtext.legacy.data.example.Example at 0x7f2ec2261090>,\n",
              " <torchtext.legacy.data.example.Example at 0x7f2ec2261550>,\n",
              " <torchtext.legacy.data.example.Example at 0x7f2ec2261810>,\n",
              " <torchtext.legacy.data.example.Example at 0x7f2ec2261c90>,\n",
              " <torchtext.legacy.data.example.Example at 0x7f2ec2261f50>,\n",
              " <torchtext.legacy.data.example.Example at 0x7f2ec22630d0>,\n",
              " <torchtext.legacy.data.example.Example at 0x7f2ec22634d0>,\n",
              " <torchtext.legacy.data.example.Example at 0x7f2ec2263550>,\n",
              " <torchtext.legacy.data.example.Example at 0x7f2ec2263ed0>,\n",
              " <torchtext.legacy.data.example.Example at 0x7f2ec2267610>,\n",
              " <torchtext.legacy.data.example.Example at 0x7f2ec2267c10>,\n",
              " <torchtext.legacy.data.example.Example at 0x7f2ec22680d0>,\n",
              " <torchtext.legacy.data.example.Example at 0x7f2ec2268650>,\n",
              " <torchtext.legacy.data.example.Example at 0x7f2ec2268910>,\n",
              " <torchtext.legacy.data.example.Example at 0x7f2ec2268f10>,\n",
              " <torchtext.legacy.data.example.Example at 0x7f2ec2268fd0>,\n",
              " <torchtext.legacy.data.example.Example at 0x7f2ec226a190>,\n",
              " <torchtext.legacy.data.example.Example at 0x7f2ec226a6d0>,\n",
              " <torchtext.legacy.data.example.Example at 0x7f2ec226aad0>,\n",
              " <torchtext.legacy.data.example.Example at 0x7f2ec226af10>,\n",
              " <torchtext.legacy.data.example.Example at 0x7f2ec226c250>,\n",
              " <torchtext.legacy.data.example.Example at 0x7f2ec226c6d0>,\n",
              " <torchtext.legacy.data.example.Example at 0x7f2ec226ca50>,\n",
              " <torchtext.legacy.data.example.Example at 0x7f2ec226d150>,\n",
              " <torchtext.legacy.data.example.Example at 0x7f2ec226d890>,\n",
              " <torchtext.legacy.data.example.Example at 0x7f2ec226dc50>,\n",
              " <torchtext.legacy.data.example.Example at 0x7f2ec226df50>,\n",
              " <torchtext.legacy.data.example.Example at 0x7f2ec226f490>,\n",
              " <torchtext.legacy.data.example.Example at 0x7f2ec226fb10>,\n",
              " <torchtext.legacy.data.example.Example at 0x7f2ec2271050>,\n",
              " <torchtext.legacy.data.example.Example at 0x7f2ec2271510>,\n",
              " <torchtext.legacy.data.example.Example at 0x7f2ec22717d0>,\n",
              " <torchtext.legacy.data.example.Example at 0x7f2ec2271a50>,\n",
              " <torchtext.legacy.data.example.Example at 0x7f2ec2271e10>,\n",
              " <torchtext.legacy.data.example.Example at 0x7f2ec22732d0>,\n",
              " <torchtext.legacy.data.example.Example at 0x7f2ec2273750>,\n",
              " <torchtext.legacy.data.example.Example at 0x7f2ec2273f10>,\n",
              " <torchtext.legacy.data.example.Example at 0x7f2ec21f6290>,\n",
              " <torchtext.legacy.data.example.Example at 0x7f2ec21f67d0>,\n",
              " <torchtext.legacy.data.example.Example at 0x7f2ec21f6ed0>,\n",
              " <torchtext.legacy.data.example.Example at 0x7f2ec21f9110>,\n",
              " <torchtext.legacy.data.example.Example at 0x7f2ec21f9510>,\n",
              " <torchtext.legacy.data.example.Example at 0x7f2ec21f9890>,\n",
              " <torchtext.legacy.data.example.Example at 0x7f2ec21f9c50>,\n",
              " <torchtext.legacy.data.example.Example at 0x7f2ec21f9f90>,\n",
              " <torchtext.legacy.data.example.Example at 0x7f2ec21fb450>,\n",
              " <torchtext.legacy.data.example.Example at 0x7f2ec21fb790>,\n",
              " <torchtext.legacy.data.example.Example at 0x7f2ec21fbe50>,\n",
              " <torchtext.legacy.data.example.Example at 0x7f2ec21f5150>,\n",
              " <torchtext.legacy.data.example.Example at 0x7f2ec21f5510>,\n",
              " <torchtext.legacy.data.example.Example at 0x7f2ec21f5850>,\n",
              " <torchtext.legacy.data.example.Example at 0x7f2ec21f5cd0>,\n",
              " <torchtext.legacy.data.example.Example at 0x7f2ec21fe290>,\n",
              " <torchtext.legacy.data.example.Example at 0x7f2ec21fe650>,\n",
              " <torchtext.legacy.data.example.Example at 0x7f2ec21feed0>,\n",
              " <torchtext.legacy.data.example.Example at 0x7f2ec21ff2d0>,\n",
              " <torchtext.legacy.data.example.Example at 0x7f2ec21ff410>,\n",
              " <torchtext.legacy.data.example.Example at 0x7f2ec21ff8d0>,\n",
              " <torchtext.legacy.data.example.Example at 0x7f2ec21ffb90>,\n",
              " <torchtext.legacy.data.example.Example at 0x7f2ec2202050>,\n",
              " <torchtext.legacy.data.example.Example at 0x7f2ec22027d0>,\n",
              " <torchtext.legacy.data.example.Example at 0x7f2ec2202a50>,\n",
              " <torchtext.legacy.data.example.Example at 0x7f2ec2202e90>,\n",
              " <torchtext.legacy.data.example.Example at 0x7f2ec2205450>,\n",
              " <torchtext.legacy.data.example.Example at 0x7f2ec2205b10>,\n",
              " <torchtext.legacy.data.example.Example at 0x7f2ec2205d10>,\n",
              " <torchtext.legacy.data.example.Example at 0x7f2ec2208410>,\n",
              " <torchtext.legacy.data.example.Example at 0x7f2ec2208850>,\n",
              " <torchtext.legacy.data.example.Example at 0x7f2ec2208dd0>,\n",
              " <torchtext.legacy.data.example.Example at 0x7f2ec220a190>,\n",
              " <torchtext.legacy.data.example.Example at 0x7f2ec220a790>,\n",
              " <torchtext.legacy.data.example.Example at 0x7f2ec220c110>,\n",
              " <torchtext.legacy.data.example.Example at 0x7f2ec220c350>,\n",
              " <torchtext.legacy.data.example.Example at 0x7f2ec220c790>,\n",
              " <torchtext.legacy.data.example.Example at 0x7f2ec220cb10>,\n",
              " <torchtext.legacy.data.example.Example at 0x7f2ec220cb90>,\n",
              " <torchtext.legacy.data.example.Example at 0x7f2ec220ced0>,\n",
              " <torchtext.legacy.data.example.Example at 0x7f2ec2207390>,\n",
              " <torchtext.legacy.data.example.Example at 0x7f2ec2207bd0>,\n",
              " <torchtext.legacy.data.example.Example at 0x7f2ec2210090>,\n",
              " <torchtext.legacy.data.example.Example at 0x7f2ec2210290>,\n",
              " <torchtext.legacy.data.example.Example at 0x7f2ec22107d0>,\n",
              " <torchtext.legacy.data.example.Example at 0x7f2ec2210fd0>,\n",
              " <torchtext.legacy.data.example.Example at 0x7f2ec2212550>,\n",
              " <torchtext.legacy.data.example.Example at 0x7f2ec2212610>,\n",
              " <torchtext.legacy.data.example.Example at 0x7f2ec2212890>,\n",
              " <torchtext.legacy.data.example.Example at 0x7f2ec2212a90>,\n",
              " <torchtext.legacy.data.example.Example at 0x7f2ec2212b10>,\n",
              " <torchtext.legacy.data.example.Example at 0x7f2ec2212d50>,\n",
              " <torchtext.legacy.data.example.Example at 0x7f2ec2215490>,\n",
              " <torchtext.legacy.data.example.Example at 0x7f2ec22158d0>,\n",
              " <torchtext.legacy.data.example.Example at 0x7f2ec2215d50>,\n",
              " <torchtext.legacy.data.example.Example at 0x7f2ec2215f10>,\n",
              " <torchtext.legacy.data.example.Example at 0x7f2ec22190d0>,\n",
              " <torchtext.legacy.data.example.Example at 0x7f2ec2219590>,\n",
              " <torchtext.legacy.data.example.Example at 0x7f2ec2219c50>,\n",
              " <torchtext.legacy.data.example.Example at 0x7f2ec221b1d0>,\n",
              " <torchtext.legacy.data.example.Example at 0x7f2ec221b890>,\n",
              " <torchtext.legacy.data.example.Example at 0x7f2ec221be90>,\n",
              " <torchtext.legacy.data.example.Example at 0x7f2ec221d050>,\n",
              " <torchtext.legacy.data.example.Example at 0x7f2ec221d550>,\n",
              " <torchtext.legacy.data.example.Example at 0x7f2ec221da90>,\n",
              " <torchtext.legacy.data.example.Example at 0x7f2ec221df50>,\n",
              " <torchtext.legacy.data.example.Example at 0x7f2ec221f0d0>,\n",
              " <torchtext.legacy.data.example.Example at 0x7f2ec221f450>,\n",
              " <torchtext.legacy.data.example.Example at 0x7f2ec221f690>,\n",
              " <torchtext.legacy.data.example.Example at 0x7f2ec221fcd0>,\n",
              " <torchtext.legacy.data.example.Example at 0x7f2ec221fd90>,\n",
              " <torchtext.legacy.data.example.Example at 0x7f2ec221ff10>,\n",
              " <torchtext.legacy.data.example.Example at 0x7f2ec22175d0>,\n",
              " <torchtext.legacy.data.example.Example at 0x7f2ec2217dd0>,\n",
              " <torchtext.legacy.data.example.Example at 0x7f2ec2222550>,\n",
              " <torchtext.legacy.data.example.Example at 0x7f2ec2222990>,\n",
              " <torchtext.legacy.data.example.Example at 0x7f2ec2223050>,\n",
              " <torchtext.legacy.data.example.Example at 0x7f2ec2223410>,\n",
              " <torchtext.legacy.data.example.Example at 0x7f2ec2223810>,\n",
              " <torchtext.legacy.data.example.Example at 0x7f2ec2223950>,\n",
              " <torchtext.legacy.data.example.Example at 0x7f2ec2223e10>,\n",
              " <torchtext.legacy.data.example.Example at 0x7f2ec2224350>,\n",
              " <torchtext.legacy.data.example.Example at 0x7f2ec2224410>,\n",
              " <torchtext.legacy.data.example.Example at 0x7f2ec2224a10>,\n",
              " <torchtext.legacy.data.example.Example at 0x7f2ec2224d10>,\n",
              " <torchtext.legacy.data.example.Example at 0x7f2ec2226250>,\n",
              " <torchtext.legacy.data.example.Example at 0x7f2ec22266d0>,\n",
              " <torchtext.legacy.data.example.Example at 0x7f2ec2226d90>,\n",
              " <torchtext.legacy.data.example.Example at 0x7f2ec2228190>,\n",
              " <torchtext.legacy.data.example.Example at 0x7f2ec2228b10>,\n",
              " <torchtext.legacy.data.example.Example at 0x7f2ec222a090>,\n",
              " <torchtext.legacy.data.example.Example at 0x7f2ec222a710>,\n",
              " <torchtext.legacy.data.example.Example at 0x7f2ec222a950>,\n",
              " <torchtext.legacy.data.example.Example at 0x7f2ec222ac10>,\n",
              " <torchtext.legacy.data.example.Example at 0x7f2ec222ad50>,\n",
              " <torchtext.legacy.data.example.Example at 0x7f2ec222e3d0>,\n",
              " <torchtext.legacy.data.example.Example at 0x7f2ec222e990>,\n",
              " <torchtext.legacy.data.example.Example at 0x7f2ec222ed10>,\n",
              " <torchtext.legacy.data.example.Example at 0x7f2ec2230250>,\n",
              " <torchtext.legacy.data.example.Example at 0x7f2ec22306d0>,\n",
              " <torchtext.legacy.data.example.Example at 0x7f2ec2230fd0>,\n",
              " <torchtext.legacy.data.example.Example at 0x7f2ec222d590>,\n",
              " <torchtext.legacy.data.example.Example at 0x7f2ec222dd50>,\n",
              " <torchtext.legacy.data.example.Example at 0x7f2ec222de90>,\n",
              " <torchtext.legacy.data.example.Example at 0x7f2ec2233510>,\n",
              " <torchtext.legacy.data.example.Example at 0x7f2ec2233b50>,\n",
              " <torchtext.legacy.data.example.Example at 0x7f2ec2233ad0>,\n",
              " <torchtext.legacy.data.example.Example at 0x7f2ec2233d10>,\n",
              " <torchtext.legacy.data.example.Example at 0x7f2ec21b42d0>,\n",
              " <torchtext.legacy.data.example.Example at 0x7f2ec21b4a90>,\n",
              " <torchtext.legacy.data.example.Example at 0x7f2ec21b4ed0>,\n",
              " <torchtext.legacy.data.example.Example at 0x7f2ec21b8590>,\n",
              " <torchtext.legacy.data.example.Example at 0x7f2ec21b8790>,\n",
              " <torchtext.legacy.data.example.Example at 0x7f2ec21b8a90>,\n",
              " <torchtext.legacy.data.example.Example at 0x7f2ec21b8c90>,\n",
              " <torchtext.legacy.data.example.Example at 0x7f2ec21b8ed0>,\n",
              " <torchtext.legacy.data.example.Example at 0x7f2ec21b9510>,\n",
              " <torchtext.legacy.data.example.Example at 0x7f2ec21b9f50>,\n",
              " ...]"
            ]
          },
          "metadata": {
            "tags": []
          },
          "execution_count": 222
        }
      ]
    },
    {
      "cell_type": "code",
      "metadata": {
        "id": "nT-flpH-P1cd"
      },
      "source": [
        "# Creating dataset\n",
        "#twitterDataset = data.TabularDataset(path=\"tweets.csv\", format=\"CSV\", fields=fields, skip_header=True)\n",
        "\n",
        "SentimentDataset = torchtext.legacy.data.Dataset(example, fields)"
      ],
      "execution_count": 223,
      "outputs": []
    },
    {
      "cell_type": "markdown",
      "metadata": {
        "id": "g6ZnyCPaR08F"
      },
      "source": [
        "Finally, we can split into training, testing, and validation sets by using the split() method:"
      ]
    },
    {
      "cell_type": "code",
      "metadata": {
        "id": "uPYXyuKhRpBk"
      },
      "source": [
        "(train, valid) = SentimentDataset.split(split_ratio=[0.85, 0.15], random_state=random.seed(SEED))"
      ],
      "execution_count": 224,
      "outputs": []
    },
    {
      "cell_type": "markdown",
      "metadata": {
        "id": "gpmKkoIO8vEO"
      },
      "source": [
        ""
      ]
    },
    {
      "cell_type": "code",
      "metadata": {
        "id": "ykvsCGQMR6UD",
        "colab": {
          "base_uri": "https://localhost:8080/"
        },
        "outputId": "928b0511-379c-46d0-9bba-e9396f453940"
      },
      "source": [
        "(len(train), len(valid))"
      ],
      "execution_count": 225,
      "outputs": [
        {
          "output_type": "execute_result",
          "data": {
            "text/plain": [
              "(10077, 1778)"
            ]
          },
          "metadata": {
            "tags": []
          },
          "execution_count": 225
        }
      ]
    },
    {
      "cell_type": "code",
      "metadata": {
        "colab": {
          "base_uri": "https://localhost:8080/"
        },
        "id": "aWQxfz7b5ThA",
        "outputId": "292d457f-8954-42c2-e427-b93b9e2c3ced"
      },
      "source": [
        "train.examples[0]"
      ],
      "execution_count": 226,
      "outputs": [
        {
          "output_type": "execute_result",
          "data": {
            "text/plain": [
              "<torchtext.legacy.data.example.Example at 0x7f2ec22d69d0>"
            ]
          },
          "metadata": {
            "tags": []
          },
          "execution_count": 226
        }
      ]
    },
    {
      "cell_type": "markdown",
      "metadata": {
        "id": "kix8P2IKSBaV"
      },
      "source": [
        "An example from the dataset:"
      ]
    },
    {
      "cell_type": "code",
      "metadata": {
        "id": "dUpEOQruR9JL",
        "colab": {
          "base_uri": "https://localhost:8080/"
        },
        "outputId": "e507fa8b-a86c-405e-c3d0-2d82acc5f61b"
      },
      "source": [
        "vars(train.examples[10])"
      ],
      "execution_count": 227,
      "outputs": [
        {
          "output_type": "execute_result",
          "data": {
            "text/plain": [
              "{'labels': 2,\n",
              " 'sentence': ['In',\n",
              "  'other',\n",
              "  'words',\n",
              "  ',',\n",
              "  'likely',\n",
              "  'as',\n",
              "  'bad',\n",
              "  'to',\n",
              "  'film',\n",
              "  \"'re\",\n",
              "  '.',\n",
              "  'about',\n",
              "  'a',\n",
              "  'see',\n",
              "  'you',\n",
              "  'year',\n",
              "  'all']}"
            ]
          },
          "metadata": {
            "tags": []
          },
          "execution_count": 227
        }
      ]
    },
    {
      "cell_type": "markdown",
      "metadata": {
        "id": "AKdllP3FST4N"
      },
      "source": [
        "## Building Vocabulary"
      ]
    },
    {
      "cell_type": "markdown",
      "metadata": {
        "id": "SuvWQ-SpSmSz"
      },
      "source": [
        "At this point we would have built a one-hot encoding of each word that is present in the dataset—a rather tedious process. Thankfully, torchtext will do this for us, and will also allow a max_size parameter to be passed in to limit the vocabu‐ lary to the most common words. This is normally done to prevent the construction of a huge, memory-hungry model. We don’t want our GPUs too overwhelmed, after all. \n",
        "\n",
        "Let’s limit the vocabulary to a maximum of 5000 words in our training set:\n"
      ]
    },
    {
      "cell_type": "code",
      "metadata": {
        "id": "mx955u93SGeY"
      },
      "source": [
        "sentence.build_vocab(train)\n",
        "Label.build_vocab(train)"
      ],
      "execution_count": 228,
      "outputs": []
    },
    {
      "cell_type": "markdown",
      "metadata": {
        "id": "xvyEeEjXTGhX"
      },
      "source": [
        "By default, torchtext will add two more special tokens, <unk> for unknown words and <pad>, a padding token that will be used to pad all our text to roughly the same size to help with efficient batching on the GPU."
      ]
    },
    {
      "cell_type": "code",
      "metadata": {
        "id": "rA3tIESdcJdN",
        "colab": {
          "base_uri": "https://localhost:8080/"
        },
        "outputId": "70a51775-c9c7-4c7c-e9f1-23eed8267c2d"
      },
      "source": [
        "print('Size of input vocab : ', len(sentence.vocab))\n",
        "print('Size of label vocab : ', len(Label.vocab))\n",
        "print('Top 10 words appreared repeatedly :', list(sentence.vocab.freqs.most_common(50)))\n",
        "print('Labels : ', Label.vocab.stoi)"
      ],
      "execution_count": 229,
      "outputs": [
        {
          "output_type": "stream",
          "text": [
            "Size of input vocab :  18832\n",
            "Size of label vocab :  5\n",
            "Top 10 words appreared repeatedly : [('.', 9498), (',', 8475), ('the', 7175), ('and', 5253), ('a', 5194), ('of', 5183), ('to', 3608), ('-', 3226), (\"'s\", 3003), ('is', 2979), ('that', 2198), ('in', 2143), ('it', 2125), ('The', 1472), ('as', 1442), ('film', 1319), ('but', 1269), ('with', 1236), ('movie', 1159), ('for', 1157), ('its', 1079), ('A', 1044), ('this', 926), ('an', 908), ('you', 902), ('`', 842), ('be', 807), (\"n't\", 797), ('on', 786), ('It', 784), ('...', 715), ('by', 655), ('not', 648), (\"'\", 646), ('are', 621), ('--', 619), ('has', 598), ('about', 590), ('more', 583), ('at', 571), ('than', 561), ('one', 561), ('from', 552), ('have', 545), ('like', 543), ('all', 511), ('his', 510), ('I', 498), ('so', 458), ('or', 449)]\n",
            "Labels :  defaultdict(None, {2: 0, 1: 1, 3: 2, 4: 3, 0: 4})\n"
          ],
          "name": "stdout"
        }
      ]
    },
    {
      "cell_type": "markdown",
      "metadata": {
        "id": "rwjD2-ebTeUX"
      },
      "source": [
        "**Lots of stopwords!!**"
      ]
    },
    {
      "cell_type": "markdown",
      "metadata": {
        "id": "sLWW221gTpNs"
      },
      "source": [
        "Now we need to create a data loader to feed into our training loop. Torchtext provides the BucketIterator method that will produce what it calls a Batch, which is almost, but not quite, like the data loader we used on images."
      ]
    },
    {
      "cell_type": "markdown",
      "metadata": {
        "id": "EQqMhMoDUDmn"
      },
      "source": [
        "But at first declare the device we are using."
      ]
    },
    {
      "cell_type": "code",
      "metadata": {
        "id": "Zfo2QhGJUK4l"
      },
      "source": [
        "device = torch.device(\"cuda\" if torch.cuda.is_available() else \"cpu\")"
      ],
      "execution_count": 230,
      "outputs": []
    },
    {
      "cell_type": "code",
      "metadata": {
        "id": "zK2ORoqdTNsM"
      },
      "source": [
        "train_iterator, valid_iterator = torchtext.legacy.data.BucketIterator.splits((train, valid), batch_size = 32, \n",
        "                                                            sort_key = lambda x: len(x.sentence),\n",
        "                                                            sort_within_batch=True, device = device)"
      ],
      "execution_count": 231,
      "outputs": []
    },
    {
      "cell_type": "markdown",
      "metadata": {
        "id": "Gg7gTFQO4fby"
      },
      "source": [
        "Save the vocabulary for later use"
      ]
    },
    {
      "cell_type": "code",
      "metadata": {
        "id": "niE9Cc6-2bD_"
      },
      "source": [
        "import os, pickle\n",
        "with open('tokenizer.pkl', 'wb') as tokens: \n",
        "    pickle.dump(sentence.vocab.stoi, tokens)"
      ],
      "execution_count": 232,
      "outputs": []
    },
    {
      "cell_type": "markdown",
      "metadata": {
        "id": "1AbsQwqkVyAy"
      },
      "source": [
        "## Defining Our Model"
      ]
    },
    {
      "cell_type": "markdown",
      "metadata": {
        "id": "E4PED4HJWH4t"
      },
      "source": [
        "We use the Embedding and LSTM modules in PyTorch to build a simple model for classifying tweets.\n",
        "\n",
        "In this model we create three layers. \n",
        "1. First, the words in our tweets are pushed into an Embedding layer, which we have established as a 300-dimensional vector embedding. \n",
        "2. That’s then fed into a 2 stacked-LSTMs with 100 hidden features (again, we’re compressing down from the 300-dimensional input like we did with images). We are using 2 LSTMs for using the dropout.\n",
        "3. Finally, the output of the LSTM (the final hidden state after processing the incoming tweet) is pushed through a standard fully connected layer with three outputs to correspond to our three possible classes (negative, positive, or neutral)."
      ]
    },
    {
      "cell_type": "code",
      "metadata": {
        "id": "43pVRccMT0bT"
      },
      "source": [
        "import torch.nn as nn\n",
        "import torch.nn.functional as F\n",
        "\n",
        "class classifier(nn.Module):\n",
        "    \n",
        "    # Define all the layers used in model\n",
        "    def __init__(self, vocab_size, embedding_dim, hidden_dim, output_dim, n_layers, dropout):\n",
        "        \n",
        "        super().__init__()          \n",
        "        \n",
        "        # Embedding layer\n",
        "        self.embedding = nn.Embedding(vocab_size, embedding_dim)\n",
        "        \n",
        "        # LSTM layer\n",
        "        self.encoder = nn.LSTM(embedding_dim, \n",
        "                           hidden_dim, \n",
        "                           num_layers=n_layers, \n",
        "                           dropout=dropout,\n",
        "                           batch_first=True)\n",
        "        # try using nn.GRU or nn.RNN here and compare their performances\n",
        "        # try bidirectional and compare their performances\n",
        "        \n",
        "        # Dense layer\n",
        "        self.fc = nn.Linear(hidden_dim, output_dim)\n",
        "        \n",
        "    def forward(self, text, text_lengths):\n",
        "        \n",
        "        # text = [batch size, sent_length]\n",
        "        embedded = self.embedding(text)\n",
        "        # embedded = [batch size, sent_len, emb dim]\n",
        "      \n",
        "        # packed sequence\n",
        "        packed_embedded = nn.utils.rnn.pack_padded_sequence(embedded, text_lengths.cpu(), batch_first=True)\n",
        "        \n",
        "        packed_output, (hidden, cell) = self.encoder(packed_embedded)\n",
        "        #hidden = [batch size, num layers * num directions,hid dim]\n",
        "        #cell = [batch size, num layers * num directions,hid dim]\n",
        "    \n",
        "        # Hidden = [batch size, hid dim * num directions]\n",
        "        dense_outputs = self.fc(hidden)   \n",
        "        \n",
        "        # Final activation function softmax\n",
        "        output = F.softmax(dense_outputs[0], dim=1)\n",
        "            \n",
        "        return output"
      ],
      "execution_count": 233,
      "outputs": []
    },
    {
      "cell_type": "code",
      "metadata": {
        "id": "rwBoGE_X_Fl8"
      },
      "source": [
        "# Define hyperparameters\n",
        "size_of_vocab = len(sentence.vocab)\n",
        "embedding_dim = 300\n",
        "num_hidden_nodes = 100\n",
        "num_output_nodes = 5\n",
        "num_layers = 2\n",
        "dropout = 0.4\n",
        "\n",
        "# Instantiate the model\n",
        "model = classifier(size_of_vocab, embedding_dim, num_hidden_nodes, num_output_nodes, num_layers, dropout = dropout)"
      ],
      "execution_count": 234,
      "outputs": []
    },
    {
      "cell_type": "code",
      "metadata": {
        "id": "O-pOMqzJ3eTv",
        "colab": {
          "base_uri": "https://localhost:8080/"
        },
        "outputId": "3fc30a67-1967-4c45-f44c-47126ddf1ed7"
      },
      "source": [
        "print(model)\n",
        "\n",
        "#No. of trianable parameters\n",
        "def count_parameters(model):\n",
        "    return sum(p.numel() for p in model.parameters() if p.requires_grad)\n",
        "    \n",
        "print(f'The model has {count_parameters(model):,} trainable parameters')"
      ],
      "execution_count": 235,
      "outputs": [
        {
          "output_type": "stream",
          "text": [
            "classifier(\n",
            "  (embedding): Embedding(18832, 300)\n",
            "  (encoder): LSTM(300, 100, num_layers=2, batch_first=True, dropout=0.4)\n",
            "  (fc): Linear(in_features=100, out_features=5, bias=True)\n",
            ")\n",
            "The model has 5,891,705 trainable parameters\n"
          ],
          "name": "stdout"
        }
      ]
    },
    {
      "cell_type": "markdown",
      "metadata": {
        "id": "eXajorf5Xz7t"
      },
      "source": [
        "## Model Training and Evaluation"
      ]
    },
    {
      "cell_type": "markdown",
      "metadata": {
        "id": "PrE9RpMtZ1Vs"
      },
      "source": [
        "First define the optimizer and loss functions"
      ]
    },
    {
      "cell_type": "code",
      "metadata": {
        "id": "-u86JWdlXvu5"
      },
      "source": [
        "import torch.optim as optim\n",
        "\n",
        "# define optimizer and loss\n",
        "optimizer = optim.Adam(model.parameters())\n",
        "criterion = nn.CrossEntropyLoss()\n",
        "\n",
        "# define metric\n",
        "def binary_accuracy(preds, y):\n",
        "    #round predictions to the closest integer\n",
        "    _, predictions = torch.max(preds, 1)\n",
        "    \n",
        "    correct = (predictions == y).float() \n",
        "    acc = correct.sum() / len(correct)\n",
        "    return acc\n",
        "    \n",
        "# push to cuda if available\n",
        "model = model.to(device)\n",
        "criterion = criterion.to(device)"
      ],
      "execution_count": 236,
      "outputs": []
    },
    {
      "cell_type": "markdown",
      "metadata": {
        "id": "3VCJtNb3Zt8w"
      },
      "source": [
        "The main thing to be aware of in this new training loop is that we have to reference `batch.tweets` and `batch.labels` to get the particular fields we’re interested in; they don’t fall out quite as nicely from the enumerator as they do in torchvision."
      ]
    },
    {
      "cell_type": "markdown",
      "metadata": {
        "id": "2WjEPLKsAiS_"
      },
      "source": [
        "**Training Loop**"
      ]
    },
    {
      "cell_type": "code",
      "metadata": {
        "id": "HDWNnGK3Y5oJ"
      },
      "source": [
        "def train(model, iterator, optimizer, criterion):\n",
        "    \n",
        "    # initialize every epoch \n",
        "    epoch_loss = 0\n",
        "    epoch_acc = 0\n",
        "    \n",
        "    # set the model in training phase\n",
        "    model.train()  \n",
        "    \n",
        "    for batch in iterator:\n",
        "        \n",
        "        # resets the gradients after every batch\n",
        "        optimizer.zero_grad()   \n",
        "        \n",
        "        # retrieve text and no. of words\n",
        "        sen, sen_lengths = batch.sentence   \n",
        "        \n",
        "        # convert to 1D tensor\n",
        "        predictions = model(sen, sen_lengths).squeeze()  \n",
        "        \n",
        "        # compute the loss\n",
        "        loss = criterion(predictions, batch.labels)        \n",
        "        \n",
        "        # compute the binary accuracy\n",
        "        acc = binary_accuracy(predictions, batch.labels)   \n",
        "        \n",
        "        # backpropage the loss and compute the gradients\n",
        "        loss.backward()       \n",
        "        \n",
        "        # update the weights\n",
        "        optimizer.step()      \n",
        "        \n",
        "        # loss and accuracy\n",
        "        epoch_loss += loss.item()  \n",
        "        epoch_acc += acc.item()    \n",
        "        \n",
        "    return epoch_loss / len(iterator), epoch_acc / len(iterator)"
      ],
      "execution_count": 237,
      "outputs": []
    },
    {
      "cell_type": "markdown",
      "metadata": {
        "id": "CZcHhkkvAsCt"
      },
      "source": [
        "**Evaluation Loop**"
      ]
    },
    {
      "cell_type": "code",
      "metadata": {
        "id": "zHEe-zSVAriL"
      },
      "source": [
        "def evaluate(model, iterator, criterion):\n",
        "    \n",
        "    # initialize every epoch\n",
        "    epoch_loss = 0\n",
        "    epoch_acc = 0\n",
        "\n",
        "    # deactivating dropout layers\n",
        "    model.eval()\n",
        "    \n",
        "    # deactivates autograd\n",
        "    with torch.no_grad():\n",
        "    \n",
        "        for batch in iterator:\n",
        "        \n",
        "            # retrieve text and no. of words\n",
        "            sen, sen_lengths = batch.sentence\n",
        "            \n",
        "            # convert to 1d tensor\n",
        "            predictions = model(sen, sen_lengths).squeeze()\n",
        "            \n",
        "            # compute loss and accuracy\n",
        "            loss = criterion(predictions, batch.labels)\n",
        "            acc = binary_accuracy(predictions, batch.labels)\n",
        "            \n",
        "            # keep track of loss and accuracy\n",
        "            epoch_loss += loss.item()\n",
        "            epoch_acc += acc.item()\n",
        "        \n",
        "    return epoch_loss / len(iterator), epoch_acc / len(iterator)"
      ],
      "execution_count": 238,
      "outputs": []
    },
    {
      "cell_type": "markdown",
      "metadata": {
        "id": "L6LJFW7HaJoV"
      },
      "source": [
        "**Let's Train and Evaluate**"
      ]
    },
    {
      "cell_type": "code",
      "metadata": {
        "id": "tq330XlnaEU9",
        "colab": {
          "base_uri": "https://localhost:8080/"
        },
        "outputId": "a6f9a97a-7a1f-4266-a966-34262b9cf184"
      },
      "source": [
        "N_EPOCHS = 20\n",
        "best_valid_loss = float('inf')\n",
        "\n",
        "for epoch in range(N_EPOCHS):\n",
        "     \n",
        "    # train the model\n",
        "    train_loss, train_acc = train(model, train_iterator, optimizer, criterion)\n",
        "    \n",
        "    # evaluate the model\n",
        "    valid_loss, valid_acc = evaluate(model, valid_iterator, criterion)\n",
        "    \n",
        "    # save the best model\n",
        "    if valid_loss < best_valid_loss:\n",
        "        best_valid_loss = valid_loss\n",
        "        torch.save(model.state_dict(), 'saved_weights.pt')\n",
        "    \n",
        "    print(f'\\tTrain Loss: {train_loss:.3f} | Train Acc: {train_acc*100:.2f}%')\n",
        "    print(f'\\t Val. Loss: {valid_loss:.3f} |  Val. Acc: {valid_acc*100:.2f}% \\n')"
      ],
      "execution_count": 239,
      "outputs": [
        {
          "output_type": "stream",
          "text": [
            "\tTrain Loss: 1.394 | Train Acc: 51.83%\n",
            "\t Val. Loss: 1.375 |  Val. Acc: 52.99% \n",
            "\n",
            "\tTrain Loss: 1.379 | Train Acc: 52.61%\n",
            "\t Val. Loss: 1.375 |  Val. Acc: 52.99% \n",
            "\n",
            "\tTrain Loss: 1.378 | Train Acc: 52.65%\n",
            "\t Val. Loss: 1.376 |  Val. Acc: 52.93% \n",
            "\n",
            "\tTrain Loss: 1.378 | Train Acc: 52.73%\n",
            "\t Val. Loss: 1.376 |  Val. Acc: 52.88% \n",
            "\n",
            "\tTrain Loss: 1.377 | Train Acc: 52.80%\n",
            "\t Val. Loss: 1.376 |  Val. Acc: 52.88% \n",
            "\n",
            "\tTrain Loss: 1.376 | Train Acc: 52.84%\n",
            "\t Val. Loss: 1.377 |  Val. Acc: 52.82% \n",
            "\n",
            "\tTrain Loss: 1.376 | Train Acc: 52.89%\n",
            "\t Val. Loss: 1.376 |  Val. Acc: 52.82% \n",
            "\n",
            "\tTrain Loss: 1.371 | Train Acc: 53.41%\n",
            "\t Val. Loss: 1.380 |  Val. Acc: 52.26% \n",
            "\n",
            "\tTrain Loss: 1.365 | Train Acc: 53.94%\n",
            "\t Val. Loss: 1.379 |  Val. Acc: 52.54% \n",
            "\n",
            "\tTrain Loss: 1.359 | Train Acc: 54.66%\n",
            "\t Val. Loss: 1.384 |  Val. Acc: 51.82% \n",
            "\n",
            "\tTrain Loss: 1.352 | Train Acc: 55.27%\n",
            "\t Val. Loss: 1.391 |  Val. Acc: 50.98% \n",
            "\n",
            "\tTrain Loss: 1.342 | Train Acc: 56.24%\n",
            "\t Val. Loss: 1.394 |  Val. Acc: 50.70% \n",
            "\n",
            "\tTrain Loss: 1.327 | Train Acc: 57.75%\n",
            "\t Val. Loss: 1.399 |  Val. Acc: 50.25% \n",
            "\n",
            "\tTrain Loss: 1.309 | Train Acc: 59.53%\n",
            "\t Val. Loss: 1.406 |  Val. Acc: 49.42% \n",
            "\n",
            "\tTrain Loss: 1.284 | Train Acc: 62.00%\n",
            "\t Val. Loss: 1.408 |  Val. Acc: 49.52% \n",
            "\n",
            "\tTrain Loss: 1.259 | Train Acc: 64.41%\n",
            "\t Val. Loss: 1.432 |  Val. Acc: 46.42% \n",
            "\n",
            "\tTrain Loss: 1.225 | Train Acc: 67.93%\n",
            "\t Val. Loss: 1.439 |  Val. Acc: 45.91% \n",
            "\n",
            "\tTrain Loss: 1.189 | Train Acc: 71.86%\n",
            "\t Val. Loss: 1.480 |  Val. Acc: 40.43% \n",
            "\n",
            "\tTrain Loss: 1.159 | Train Acc: 74.72%\n",
            "\t Val. Loss: 1.472 |  Val. Acc: 42.26% \n",
            "\n",
            "\tTrain Loss: 1.137 | Train Acc: 76.84%\n",
            "\t Val. Loss: 1.449 |  Val. Acc: 44.20% \n",
            "\n"
          ],
          "name": "stdout"
        }
      ]
    },
    {
      "cell_type": "markdown",
      "metadata": {
        "id": "LZgzB0ZkHVTI"
      },
      "source": [
        "## Model Testing"
      ]
    },
    {
      "cell_type": "code",
      "metadata": {
        "id": "aZZfnWo0abRx"
      },
      "source": [
        "#load weights and tokenizer\n",
        "\n",
        "path='./saved_weights.pt'\n",
        "model.load_state_dict(torch.load(path));\n",
        "model.eval();\n",
        "tokenizer_file = open('./tokenizer.pkl', 'rb')\n",
        "tokenizer = pickle.load(tokenizer_file)\n",
        "\n",
        "#inference \n",
        "\n",
        "import spacy\n",
        "nlp = spacy.load('en')\n",
        "\n",
        "def classify_tweet(tweet):\n",
        "    \n",
        "    categories = {0: \"Negative\", 1:\"Positive\", 2:\"Neutral\"}\n",
        "    \n",
        "    # tokenize the tweet \n",
        "    tokenized = [tok.text for tok in nlp.tokenizer(tweet)] \n",
        "    # convert to integer sequence using predefined tokenizer dictionary\n",
        "    indexed = [tokenizer[t] for t in tokenized]        \n",
        "    # compute no. of words        \n",
        "    length = [len(indexed)]\n",
        "    # convert to tensor                                    \n",
        "    tensor = torch.LongTensor(indexed).to(device)   \n",
        "    # reshape in form of batch, no. of words           \n",
        "    tensor = tensor.unsqueeze(1).T  \n",
        "    # convert to tensor                          \n",
        "    length_tensor = torch.LongTensor(length)\n",
        "    # Get the model prediction                  \n",
        "    prediction = model(tensor, length_tensor)\n",
        "\n",
        "    _, pred = torch.max(prediction, 1) \n",
        "    \n",
        "    return categories[pred.item()]"
      ],
      "execution_count": 240,
      "outputs": []
    },
    {
      "cell_type": "code",
      "metadata": {
        "id": "yTkHLEipIlM9",
        "colab": {
          "base_uri": "https://localhost:8080/",
          "height": 35
        },
        "outputId": "d0c979e4-f230-4c0b-aa9b-ce491bb9fad3"
      },
      "source": [
        "classify_tweet(\"A valid explanation for why Trump won't let women on the golf course.\")"
      ],
      "execution_count": 241,
      "outputs": [
        {
          "output_type": "execute_result",
          "data": {
            "application/vnd.google.colaboratory.intrinsic+json": {
              "type": "string"
            },
            "text/plain": [
              "'Negative'"
            ]
          },
          "metadata": {
            "tags": []
          },
          "execution_count": 241
        }
      ]
    },
    {
      "cell_type": "markdown",
      "metadata": {
        "id": "WVjCuKK_LVEF"
      },
      "source": [
        "## Discussion on Data Augmentation Techniques \n",
        "\n",
        "You might wonder exactly how you can augment text data. After all, you can’t really flip it horizontally as you can an image! :D \n",
        "\n",
        "In contrast to data augmentation in images, augmentation techniques on data is very specific to final product you are building. As its general usage on any type of textual data doesn't provides a significant performance boost, that's why unlike torchvision, torchtext doesn’t offer a augmentation pipeline. Due to powerful models as transformers, augmentation tecnhiques are not so preferred now-a-days. But its better to know about some techniques with text that will provide your model with a little more information for training. \n",
        "\n",
        "### Synonym Replacement\n",
        "\n",
        "First, you could replace words in the sentence with synonyms, like so:\n",
        "\n",
        "    The dog slept on the mat\n",
        "\n",
        "could become\n",
        "\n",
        "    The dog slept on the rug\n",
        "\n",
        "Aside from the dog's insistence that a rug is much softer than a mat, the meaning of the sentence hasn’t changed. But mat and rug will be mapped to different indices in the vocabulary, so the model will learn that the two sentences map to the same label, and hopefully that there’s a connection between those two words, as everything else in the sentences is the same."
      ]
    },
    {
      "cell_type": "markdown",
      "metadata": {
        "id": "T_uEfWJpL6Nq"
      },
      "source": [
        "### Random Insertion\n",
        "A random insertion technique looks at a sentence and then randomly inserts synonyms of existing non-stopwords into the sentence n times. Assuming you have a way of getting a synonym of a word and a way of eliminating stopwords (common words such as and, it, the, etc.), shown, but not implemented, in this function via get_synonyms() and get_stopwords(), an implementation of this would be as follows:\n"
      ]
    },
    {
      "cell_type": "code",
      "metadata": {
        "id": "7Alm5D7WIvAC"
      },
      "source": [
        "def random_insertion(sentence, n): \n",
        "    words = remove_stopwords(sentence) \n",
        "    for _ in range(n):\n",
        "        new_synonym = get_synonyms(random.choice(words))\n",
        "        sentence.insert(randrange(len(sentence)+1), new_synonym) \n",
        "    return sentence"
      ],
      "execution_count": 242,
      "outputs": []
    },
    {
      "cell_type": "markdown",
      "metadata": {
        "id": "gqLWzwJ3Mm8h"
      },
      "source": [
        "## Random Deletion\n",
        "As the name suggests, random deletion deletes words from a sentence. Given a probability parameter p, it will go through the sentence and decide whether to delete a word or not based on that random probability. Consider of it as pixel dropouts while treating images."
      ]
    },
    {
      "cell_type": "code",
      "metadata": {
        "id": "-7Dz7JJfMqyC"
      },
      "source": [
        "def random_deletion(words, p=0.5): \n",
        "    if len(words) == 1: # return if single word\n",
        "        return words\n",
        "    remaining = list(filter(lambda x: random.uniform(0,1) > p,words)) \n",
        "    if len(remaining) == 0: # if not left, sample a random word\n",
        "        return [random.choice(words)] \n",
        "    else:\n",
        "        return remaining"
      ],
      "execution_count": 243,
      "outputs": []
    },
    {
      "cell_type": "markdown",
      "metadata": {
        "id": "zOIbi5WzO5OU"
      },
      "source": [
        "### Random Swap\n",
        "The random swap augmentation takes a sentence and then swaps words within it n times, with each iteration working on the previously swapped sentence. Here we sample two random numbers based on the length of the sentence, and then just keep swapping until we hit n."
      ]
    },
    {
      "cell_type": "code",
      "metadata": {
        "id": "LnkbG15HO3Yj"
      },
      "source": [
        "def random_swap(sentence, n=5): \n",
        "    length = range(len(sentence)) \n",
        "    for _ in range(n):\n",
        "        idx1, idx2 = random.sample(length, 2)\n",
        "        sentence[idx1], sentence[idx2] = sentence[idx2], sentence[idx1] \n",
        "    return sentence"
      ],
      "execution_count": 244,
      "outputs": []
    },
    {
      "cell_type": "markdown",
      "metadata": {
        "id": "599NpwfMR5Vm"
      },
      "source": [
        "For more on this please go through this [paper](https://arxiv.org/pdf/1901.11196.pdf)."
      ]
    },
    {
      "cell_type": "markdown",
      "metadata": {
        "id": "a5aeKuNCRGip"
      },
      "source": [
        "### Back Translation\n",
        "\n",
        "Another popular approach for augmenting text datasets is back translation. This involves translating a sentence from our target language into one or more other languages and then translating all of them back to the original language. We can use the Python library googletrans for this purpose. "
      ]
    },
    {
      "cell_type": "code",
      "metadata": {
        "id": "pHhNBbYrRXNy",
        "colab": {
          "base_uri": "https://localhost:8080/",
          "height": 363
        },
        "outputId": "6d4473a9-6573-41b7-ee26-e0d4e1c1e98f"
      },
      "source": [
        "import random\n",
        "import googletrans\n",
        "import googletrans.Translator\n",
        "\n",
        "translator = Translator()\n",
        "sentence = ['']\n",
        "\n",
        "available_langs = list(googletrans.LANGUAGES.keys()) \n",
        "trans_lang = random.choice(available_langs) \n",
        "print(f\"Translating to {googletrans.LANGUAGES[trans_lang]}\")\n",
        "\n",
        "translations = translator.translate(sentence, dest=trans_lang) \n",
        "t_text = [t.text for t in translations]\n",
        "print(t_text)\n",
        "\n",
        "translations_en_random = translator.translate(t_text, src=trans_lang, dest='en') \n",
        "en_text = [t.text for t in translations_en_random]\n",
        "print(en_text)"
      ],
      "execution_count": 245,
      "outputs": [
        {
          "output_type": "error",
          "ename": "ModuleNotFoundError",
          "evalue": "ignored",
          "traceback": [
            "\u001b[0;31m---------------------------------------------------------------------------\u001b[0m",
            "\u001b[0;31mModuleNotFoundError\u001b[0m                       Traceback (most recent call last)",
            "\u001b[0;32m<ipython-input-245-d3c85cb4acfe>\u001b[0m in \u001b[0;36m<module>\u001b[0;34m()\u001b[0m\n\u001b[1;32m      1\u001b[0m \u001b[0;32mimport\u001b[0m \u001b[0mrandom\u001b[0m\u001b[0;34m\u001b[0m\u001b[0;34m\u001b[0m\u001b[0m\n\u001b[0;32m----> 2\u001b[0;31m \u001b[0;32mimport\u001b[0m \u001b[0mgoogletrans\u001b[0m\u001b[0;34m\u001b[0m\u001b[0;34m\u001b[0m\u001b[0m\n\u001b[0m\u001b[1;32m      3\u001b[0m \u001b[0;32mimport\u001b[0m \u001b[0mgoogletrans\u001b[0m\u001b[0;34m.\u001b[0m\u001b[0mTranslator\u001b[0m\u001b[0;34m\u001b[0m\u001b[0;34m\u001b[0m\u001b[0m\n\u001b[1;32m      4\u001b[0m \u001b[0;34m\u001b[0m\u001b[0m\n\u001b[1;32m      5\u001b[0m \u001b[0mtranslator\u001b[0m \u001b[0;34m=\u001b[0m \u001b[0mTranslator\u001b[0m\u001b[0;34m(\u001b[0m\u001b[0;34m)\u001b[0m\u001b[0;34m\u001b[0m\u001b[0;34m\u001b[0m\u001b[0m\n",
            "\u001b[0;31mModuleNotFoundError\u001b[0m: No module named 'googletrans'",
            "",
            "\u001b[0;31m---------------------------------------------------------------------------\u001b[0;32m\nNOTE: If your import is failing due to a missing package, you can\nmanually install dependencies using either !pip or !apt.\n\nTo view examples of installing some common dependencies, click the\n\"Open Examples\" button below.\n\u001b[0;31m---------------------------------------------------------------------------\u001b[0m\n"
          ]
        }
      ]
    }
  ]
}